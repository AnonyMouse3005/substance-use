{
 "cells": [
  {
   "cell_type": "code",
   "execution_count": 4,
   "metadata": {},
   "outputs": [
    {
     "name": "stdout",
     "output_type": "stream",
     "text": [
      "['NDX5J_6_TEXT', 'NDX6J_8_TEXT', 'NDX6K_14_TEXT', 'NDX5L_10_TEXT', 'NDX6L_13_TEXT', 'NDX5M_10_TEXT', 'NDX6M_13_TEXT', 'NDX5N_10_TEXT', 'NDX6N_13_TEXT', 'NDX5O_11_TEXT', 'NDX6O_14_TEXT', 'NDX5P_10_TEXT', 'NDX6P_13_TEXT', 'NDX5Q_10_TEXT', 'NDX6Q_13_TEXT', 'NDX5R_10_TEXT', 'NDX6R_13_TEXT']\n"
     ]
    }
   ],
   "source": [
    "import json\n",
    "\n",
    "with open('wave1_netvars.json', 'r') as f:\n",
    "    dict3 = json.load(f)\n",
    "\n",
    "str_key = []\n",
    "for key in dict3:\n",
    "    if 'TEXT' in key:\n",
    "        str_key.append(key)\n",
    "\n",
    "print(str_key)"
   ]
  },
  {
   "cell_type": "markdown",
   "metadata": {},
   "source": [
    "n choose k"
   ]
  },
  {
   "cell_type": "code",
   "execution_count": null,
   "metadata": {},
   "outputs": [
    {
     "name": "stdout",
     "output_type": "stream",
     "text": [
      "2047.0\n"
     ]
    }
   ],
   "source": [
    "from scipy.special import comb\n",
    "\n",
    "tot = 0\n",
    "for i in range (11):\n",
    "    tot += comb(11,i+1)\n",
    "\n",
    "print(tot)"
   ]
  },
  {
   "cell_type": "markdown",
   "metadata": {},
   "source": [
    "Power set"
   ]
  },
  {
   "cell_type": "code",
   "execution_count": 1,
   "metadata": {},
   "outputs": [
    {
     "data": {
      "text/plain": [
       "[(),\n",
       " (0,),\n",
       " (1,),\n",
       " (2,),\n",
       " (3,),\n",
       " (0, 1),\n",
       " (0, 2),\n",
       " (0, 3),\n",
       " (1, 2),\n",
       " (1, 3),\n",
       " (2, 3),\n",
       " (0, 1, 2),\n",
       " (0, 1, 3),\n",
       " (0, 2, 3),\n",
       " (1, 2, 3),\n",
       " (0, 1, 2, 3)]"
      ]
     },
     "execution_count": 1,
     "metadata": {},
     "output_type": "execute_result"
    }
   ],
   "source": [
    "from itertools import chain, combinations\n",
    "\n",
    "def powerset(iterable):\n",
    "    # Usage: list(powerset([1,2,3])) --> [(), (1,), (2,), (3,), (1,2), (1,3), (2,3), (1,2,3)]\n",
    "    s = list(iterable)\n",
    "    return chain.from_iterable(combinations(s, r) for r in range(len(s)+1))\n",
    "\n",
    "list(powerset([0,1,2,3]))"
   ]
  },
  {
   "cell_type": "markdown",
   "metadata": {},
   "source": [
    "Parallel processing"
   ]
  },
  {
   "cell_type": "code",
   "execution_count": 3,
   "metadata": {},
   "outputs": [],
   "source": [
    "from joblib import Parallel, delayed\n",
    "import multiprocessing\n",
    "\n",
    "# what are your inputs, and what operation do you want to\n",
    "# perform on each input. For example...\n",
    "inputs = range(10)\n",
    "def processInput(i):\n",
    "    return i * i\n",
    "num_cores = multiprocessing.cpu_count()\n",
    "results = Parallel(n_jobs=num_cores)(delayed(processInput)(i) for i in inputs)"
   ]
  },
  {
   "cell_type": "code",
   "execution_count": 4,
   "metadata": {},
   "outputs": [
    {
     "data": {
      "text/plain": [
       "[0, 1, 4, 9, 16, 25, 36, 49, 64, 81]"
      ]
     },
     "execution_count": 4,
     "metadata": {},
     "output_type": "execute_result"
    }
   ],
   "source": [
    "results"
   ]
  },
  {
   "cell_type": "markdown",
   "metadata": {},
   "source": [
    "Read results from powerset"
   ]
  },
  {
   "cell_type": "code",
   "execution_count": 19,
   "metadata": {},
   "outputs": [],
   "source": [
    "from heapq import nlargest\n",
    "import json\n",
    "\n",
    "def print_top_fgcombs(n, dict, substance):\n",
    "    for i, top_comb in enumerate(nlargest(n, dict, key = dict.get)):\n",
    "        s = ''\n",
    "        for g in top_comb:\n",
    "            if not s:\n",
    "                s = s + g\n",
    "            else:\n",
    "                s = s + '+' + g\n",
    "        print(f'top {i+1} combination of feature groups for {substance}: {s}; accuracy = {dict[top_comb]}')\n",
    "    print('-----------------------------------------------------------------------------------------------')\n",
    "\n",
    "def read_results(filepath, substance=[1,1,1,1], n=10):\n",
    "    with open(filepath, 'r') as f:\n",
    "        results = json.load(f)\n",
    "\n",
    "    TB_dict, AL_dict, ID_dict, ND_dict = {}, {}, {}, {}\n",
    "    for r in results:\n",
    "        TB_dict[tuple(r[0])] = r[1][0]\n",
    "        AL_dict[tuple(r[0])] = r[1][1]\n",
    "        ID_dict[tuple(r[0])] = r[1][2]\n",
    "        ND_dict[tuple(r[0])] = r[1][3]\n",
    "\n",
    "    print('filename: ' + filepath + '\\n')\n",
    "    if substance[0]:\n",
    "        print_top_fgcombs(n, dict=TB_dict, substance='tobacco')\n",
    "    if substance[1]:\n",
    "        print_top_fgcombs(n, dict=AL_dict, substance='alcohol')\n",
    "    if substance[2]:\n",
    "        print_top_fgcombs(n, dict=ID_dict, substance='injection')\n",
    "    if substance[3]:\n",
    "        print_top_fgcombs(n, dict=ND_dict, substance='non-injection')"
   ]
  },
  {
   "cell_type": "code",
   "execution_count": 1,
   "metadata": {},
   "outputs": [],
   "source": [
    "import json\n",
    "\n",
    "filepath = 'results/results_dt.json'\n",
    "\n",
    "with open(filepath, 'r') as f:\n",
    "    results = json.load(f)\n",
    "\n",
    "TB_dict, AL_dict, ID_dict, ND_dict = {}, {}, {}, {}\n",
    "for r in results:\n",
    "    TB_dict[tuple(r[0])] = r[1][0][0]\n",
    "    AL_dict[tuple(r[0])] = r[1][1][0]\n",
    "    ID_dict[tuple(r[0])] = r[1][2][0]\n",
    "    ND_dict[tuple(r[0])] = r[1][3][0]"
   ]
  },
  {
   "cell_type": "code",
   "execution_count": 2,
   "metadata": {},
   "outputs": [
    {
     "name": "stdout",
     "output_type": "stream",
     "text": [
      "top 1 combination of feature groups for tobacco: ('AL', 'ND', 'TX'); accuracy = 0.8688571428571429\n",
      "top 2 combination of feature groups for tobacco: ('TB', 'AL', 'ND', 'TX'); accuracy = 0.8660000000000002\n",
      "top 3 combination of feature groups for tobacco: ('AL', 'ID', 'ND', 'TX'); accuracy = 0.8634285714285715\n",
      "top 4 combination of feature groups for tobacco: ('TB', 'AL', 'ID', 'ND', 'TX'); accuracy = 0.8588571428571428\n",
      "top 5 combination of feature groups for tobacco: ('AL', 'AC', 'CJ'); accuracy = 0.8542857142857143\n",
      "top 6 combination of feature groups for tobacco: ('TB', 'AL', 'AC', 'CJ'); accuracy = 0.8499999999999999\n",
      "top 7 combination of feature groups for tobacco: ('AL', 'OD', 'AC', 'CJ'); accuracy = 0.848\n",
      "top 8 combination of feature groups for tobacco: ('TB', 'AL', 'OD', 'AC', 'CJ'); accuracy = 0.8459999999999998\n",
      "top 9 combination of feature groups for tobacco: ('AL', 'ID', 'ND', 'TX', 'CJ'); accuracy = 0.8428571428571427\n",
      "top 10 combination of feature groups for tobacco: ('AL', 'ID', 'AC', 'CJ'); accuracy = 0.8405714285714285\n",
      "-----------------------------------------------------------------------------------------------\n",
      "top 1 combination of feature groups for alcohol: ('AL', 'ID', 'ND', 'AC'); accuracy = 0.7831428571428571\n",
      "top 2 combination of feature groups for alcohol: ('AL', 'ID', 'ND', 'TX', 'AC'); accuracy = 0.7811428571428572\n",
      "top 3 combination of feature groups for alcohol: ('AL', 'ID', 'ND', 'TX', 'AC', 'CJ'); accuracy = 0.7665714285714285\n",
      "top 4 combination of feature groups for alcohol: ('AL', 'ID', 'ND', 'AC', 'CJ'); accuracy = 0.7660000000000001\n",
      "top 5 combination of feature groups for alcohol: ('TB', 'AL', 'ID', 'ND', 'AC'); accuracy = 0.7571428571428572\n",
      "top 6 combination of feature groups for alcohol: ('TB', 'AL', 'ID', 'ND', 'TX', 'AC'); accuracy = 0.752\n",
      "top 7 combination of feature groups for alcohol: ('SC', 'TB', 'ND', 'OD'); accuracy = 0.746857142857143\n",
      "top 8 combination of feature groups for alcohol: ('AL', 'OD', 'CJ'); accuracy = 0.7457142857142856\n",
      "top 9 combination of feature groups for alcohol: ('SC', 'TB', 'ND', 'OD', 'TX'); accuracy = 0.743142857142857\n",
      "top 10 combination of feature groups for alcohol: ('TB', 'AL', 'ID', 'ND', 'TX', 'AC', 'CJ'); accuracy = 0.7417142857142857\n",
      "-----------------------------------------------------------------------------------------------\n",
      "top 1 combination of feature groups for injection: ('OD', 'TX', 'CJ'); accuracy = 0.7831428571428571\n",
      "top 2 combination of feature groups for injection: ('AL', 'AC'); accuracy = 0.7580000000000001\n",
      "top 3 combination of feature groups for injection: ('AL', 'ID', 'AC'); accuracy = 0.7562857142857143\n",
      "top 4 combination of feature groups for injection: ('ID', 'OD', 'TX', 'CJ'); accuracy = 0.7511428571428573\n",
      "top 5 combination of feature groups for injection: ('OD', 'CJ'); accuracy = 0.7505714285714287\n",
      "top 6 combination of feature groups for injection: ('TB', 'OD', 'TX', 'CJ'); accuracy = 0.7428571428571431\n",
      "top 7 combination of feature groups for injection: ('TB', 'ID', 'OD', 'TX', 'CJ'); accuracy = 0.7428571428571429\n",
      "top 8 combination of feature groups for injection: ('AL', 'ID', 'TX', 'AC'); accuracy = 0.7394285714285715\n",
      "top 9 combination of feature groups for injection: ('AL', 'TX', 'AC'); accuracy = 0.7374285714285713\n",
      "top 10 combination of feature groups for injection: ('TB', 'AC'); accuracy = 0.7251428571428571\n",
      "-----------------------------------------------------------------------------------------------\n",
      "top 1 combination of feature groups for non-injection: ('ID', 'OD', 'TX', 'CJ'); accuracy = 0.7771428571428569\n",
      "top 2 combination of feature groups for non-injection: ('TB', 'DA', 'OD', 'AC', 'CJ'); accuracy = 0.7217142857142856\n",
      "top 3 combination of feature groups for non-injection: ('TB', 'AL', 'DA', 'OD', 'AC', 'CJ'); accuracy = 0.7182857142857144\n",
      "top 4 combination of feature groups for non-injection: ('TB', 'DA', 'TX', 'AC', 'CJ'); accuracy = 0.7157142857142857\n",
      "top 5 combination of feature groups for non-injection: ('TB', 'DA', 'OD', 'TX', 'AC', 'CJ'); accuracy = 0.7154285714285714\n",
      "top 6 combination of feature groups for non-injection: ('TB', 'AL', 'DA', 'OD', 'TX', 'AC', 'CJ'); accuracy = 0.7145714285714287\n",
      "top 7 combination of feature groups for non-injection: ('TB', 'DA', 'AC', 'CJ'); accuracy = 0.7131428571428572\n",
      "top 8 combination of feature groups for non-injection: ('TB', 'AL', 'DA', 'TX', 'AC', 'CJ'); accuracy = 0.7114285714285714\n",
      "top 9 combination of feature groups for non-injection: ('DA', 'OD', 'TX', 'AC', 'CJ'); accuracy = 0.7102857142857144\n",
      "top 10 combination of feature groups for non-injection: ('TB', 'AL', 'DA', 'AC', 'CJ'); accuracy = 0.7097142857142856\n",
      "-----------------------------------------------------------------------------------------------\n"
     ]
    }
   ],
   "source": [
    "print_top_fgcombs(n=10, dict=TB_dict, substance='tobacco')\n",
    "print_top_fgcombs(n=10, dict=AL_dict, substance='alcohol')\n",
    "print_top_fgcombs(n=10, dict=ID_dict, substance='injection')\n",
    "print_top_fgcombs(n=10, dict=ND_dict, substance='non-injection')\n"
   ]
  },
  {
   "cell_type": "code",
   "execution_count": 24,
   "metadata": {},
   "outputs": [
    {
     "name": "stdout",
     "output_type": "stream",
     "text": [
      "filename: results/results_lg.json\n",
      "\n",
      "top 1 combination of feature groups for tobacco: SC+AL+ID+ND+DA+OD+CJ; accuracy = 0.9142857142857143\n",
      "top 2 combination of feature groups for tobacco: SC+TB+AL+ID+ND+DA+OD+CJ; accuracy = 0.9142857142857143\n",
      "top 3 combination of feature groups for tobacco: SC+AL+ID+ND+DA+OD+TX+CJ; accuracy = 0.9142857142857143\n",
      "top 4 combination of feature groups for tobacco: SC+TB+AL+ID+ND+DA+OD+TX+CJ; accuracy = 0.9142857142857143\n",
      "top 5 combination of feature groups for tobacco: SC+DA+CJ; accuracy = 0.8857142857142857\n",
      "top 6 combination of feature groups for tobacco: SC+DM+DA+CJ; accuracy = 0.8857142857142857\n",
      "top 7 combination of feature groups for tobacco: SC+TB+DA+CJ; accuracy = 0.8857142857142857\n",
      "top 8 combination of feature groups for tobacco: SC+AL+DA+CJ; accuracy = 0.8857142857142857\n",
      "top 9 combination of feature groups for tobacco: SC+ID+ND+DA; accuracy = 0.8857142857142857\n",
      "top 10 combination of feature groups for tobacco: SC+ND+DA+CJ; accuracy = 0.8857142857142857\n",
      "-----------------------------------------------------------------------------------------------\n",
      "top 1 combination of feature groups for alcohol: ID+ND+DA+TX; accuracy = 0.9428571428571428\n",
      "top 2 combination of feature groups for alcohol: ID+ND+DA+TX+CJ; accuracy = 0.9142857142857143\n",
      "top 3 combination of feature groups for alcohol: SC+AL+ID+ND+DA; accuracy = 0.8857142857142857\n",
      "top 4 combination of feature groups for alcohol: AL+ID+ND+DA+TX; accuracy = 0.8857142857142857\n",
      "top 5 combination of feature groups for alcohol: SC+TB+AL+ID+ND+DA; accuracy = 0.8857142857142857\n",
      "top 6 combination of feature groups for alcohol: AL+ID+ND+DA+TX+CJ; accuracy = 0.8857142857142857\n",
      "top 7 combination of feature groups for alcohol: SC+TB+AL+ID+ND+DA+CJ; accuracy = 0.8857142857142857\n",
      "top 8 combination of feature groups for alcohol: SC+ID+ND+DA; accuracy = 0.8571428571428571\n",
      "top 9 combination of feature groups for alcohol: SC+ND+DA+AC; accuracy = 0.8571428571428571\n",
      "top 10 combination of feature groups for alcohol: TB+ID+ND+DA+TX; accuracy = 0.8571428571428571\n",
      "-----------------------------------------------------------------------------------------------\n",
      "top 1 combination of feature groups for injection: ID+OD+TX+CJ; accuracy = 0.8\n",
      "top 2 combination of feature groups for injection: TX; accuracy = 0.7428571428571429\n",
      "top 3 combination of feature groups for injection: ID+TX; accuracy = 0.7428571428571429\n",
      "top 4 combination of feature groups for injection: TB+AL+DA+OD+AC; accuracy = 0.7428571428571429\n",
      "top 5 combination of feature groups for injection: SC+TB+AL+DA+OD+AC; accuracy = 0.7428571428571429\n",
      "top 6 combination of feature groups for injection: TB+AL+DA+OD+TX+AC; accuracy = 0.7428571428571429\n",
      "top 7 combination of feature groups for injection: SC+TB+AL+DA+OD+TX+AC; accuracy = 0.7428571428571429\n",
      "top 8 combination of feature groups for injection: SC; accuracy = 0.7142857142857143\n",
      "top 9 combination of feature groups for injection: DM; accuracy = 0.7142857142857143\n",
      "top 10 combination of feature groups for injection: TB; accuracy = 0.7142857142857143\n",
      "-----------------------------------------------------------------------------------------------\n",
      "top 1 combination of feature groups for non-injection: SC+ID+ND+DA+OD+AC; accuracy = 0.8285714285714286\n",
      "top 2 combination of feature groups for non-injection: TB+DA; accuracy = 0.8\n",
      "top 3 combination of feature groups for non-injection: ND+DA+AC; accuracy = 0.8\n",
      "top 4 combination of feature groups for non-injection: TB+ND+DA+OD+AC; accuracy = 0.8\n",
      "top 5 combination of feature groups for non-injection: SC+DA; accuracy = 0.7714285714285715\n",
      "top 6 combination of feature groups for non-injection: TB+AL+ND+DA; accuracy = 0.7714285714285715\n",
      "top 7 combination of feature groups for non-injection: SC+DM+ND+DA+AC; accuracy = 0.7714285714285715\n",
      "top 8 combination of feature groups for non-injection: SC+DM+TB+ND+DA+AC; accuracy = 0.7714285714285715\n",
      "top 9 combination of feature groups for non-injection: SC+TB+ID+ND+DA+OD+AC; accuracy = 0.7714285714285715\n",
      "top 10 combination of feature groups for non-injection: SC+AL+ID+ND+DA+OD+AC; accuracy = 0.7714285714285715\n",
      "-----------------------------------------------------------------------------------------------\n"
     ]
    }
   ],
   "source": [
    "read_results('results/results_lg.json',[1,1,1,1],10)"
   ]
  },
  {
   "cell_type": "markdown",
   "metadata": {},
   "source": [
    "Read csv mappings to double check"
   ]
  },
  {
   "cell_type": "code",
   "execution_count": 47,
   "metadata": {},
   "outputs": [
    {
     "name": "stdout",
     "output_type": "stream",
     "text": [
      "221 221\n"
     ]
    }
   ],
   "source": [
    "import csv\n",
    "\n",
    "rows = []\n",
    "with open('data/original/pre-imputed/mappings.csv', 'r') as f:          # Read lines separately\n",
    "    reader = csv.reader(f, delimiter=',')\n",
    "    for i, line in enumerate(reader):\n",
    "        rows.append(line)\n",
    "\n",
    "print(len(rows[0]), len(rows[1]))"
   ]
  },
  {
   "cell_type": "code",
   "execution_count": 48,
   "metadata": {},
   "outputs": [],
   "source": [
    "w1_varcount, w2_varcount = 0, 0\n",
    "for v in rows[0]:\n",
    "    if v != 'W2':   w1_varcount += 1\n",
    "\n",
    "for v in rows[1]:\n",
    "    if v != 'W1':   w2_varcount += 1"
   ]
  },
  {
   "cell_type": "code",
   "execution_count": 54,
   "metadata": {},
   "outputs": [
    {
     "name": "stdout",
     "output_type": "stream",
     "text": [
      "C1W1 has 174/174 variables\n",
      "C1W2 has 168/167 variables\n"
     ]
    }
   ],
   "source": [
    "import pandas as pd\n",
    "\n",
    "datapath = 'data/original/pre-imputed/'\n",
    "df_C1W1nonet = pd.read_csv(datapath + 'C1W1_nonnetwork.csv')\n",
    "df_C1W2nonet = pd.read_csv(datapath + 'C1W2_nonnetwork.csv')\n",
    "\n",
    "print(f'C1W1 has {w1_varcount}/{len(list(df_C1W1nonet.columns))} variables')\n",
    "print(f'C1W2 has {w2_varcount}/{len(list(df_C1W2nonet.columns))} variables')  # AL6A and AL6B both map to Q36 (Q36 is both AL6A and AL6B combined)"
   ]
  }
 ],
 "metadata": {
  "kernelspec": {
   "display_name": "Python 3.9.12 ('base')",
   "language": "python",
   "name": "python3"
  },
  "language_info": {
   "codemirror_mode": {
    "name": "ipython",
    "version": 3
   },
   "file_extension": ".py",
   "mimetype": "text/x-python",
   "name": "python",
   "nbconvert_exporter": "python",
   "pygments_lexer": "ipython3",
   "version": "3.9.12"
  },
  "orig_nbformat": 4,
  "vscode": {
   "interpreter": {
    "hash": "2abc7d1412b351c343a4d86f19894027741fcfc3457eb52dff9547c08c1a4f79"
   }
  }
 },
 "nbformat": 4,
 "nbformat_minor": 2
}
