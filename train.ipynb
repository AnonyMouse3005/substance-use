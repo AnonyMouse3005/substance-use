{
 "cells": [
  {
   "cell_type": "code",
   "execution_count": 1,
   "metadata": {},
   "outputs": [],
   "source": [
    "import matplotlib.pyplot as plt\n",
    "import numpy as np\n",
    "import pandas as pd\n",
    "import re\n",
    "import json\n",
    "from helper import powerset\n",
    "\n",
    "from sklearn.linear_model import LogisticRegression\n",
    "from sklearn.ensemble import RandomForestClassifier\n",
    "from sklearn.model_selection import train_test_split\n",
    "from sklearn.impute import SimpleImputer\n",
    "from sklearn.metrics import RocCurveDisplay\n",
    "from sklearn.datasets import make_multilabel_classification\n",
    "from sklearn.multioutput import MultiOutputClassifier\n",
    "from sklearn.decomposition import PCA\n",
    "from sklearn.model_selection import LeaveOneOut, GridSearchCV\n",
    "from sklearn.tree import DecisionTreeClassifier, plot_tree"
   ]
  },
  {
   "cell_type": "code",
   "execution_count": 2,
   "metadata": {},
   "outputs": [],
   "source": [
    "with open('mappings.json', 'r') as f:\n",
    "    mappings = json.load(f)\n",
    "\n",
    "# mappings = {re.sub('[^A-Za-z0-9]+$', '', k): v for k, v in mappings.items()}\n",
    "\n",
    "with open('wave1_vars.json', 'r') as f:\n",
    "    dict1 = json.load(f)\n",
    "\n",
    "with open('wave2_vars.json', 'r') as f:\n",
    "    dict2 = json.load(f)"
   ]
  },
  {
   "cell_type": "code",
   "execution_count": 3,
   "metadata": {},
   "outputs": [],
   "source": [
    "df_C1W1nonet = pd.read_csv('C1W1_nonnetwork.csv')\n",
    "df_C1W2nonet = pd.read_csv('C1W2_nonnetwork.csv')\n",
    "df_C1W1net = pd.read_csv('C1W1_network.csv')"
   ]
  },
  {
   "cell_type": "markdown",
   "metadata": {},
   "source": [
    "Remove irrelevant/insignificant variables\n",
    "\n",
    "- IDs of participants/interviewers\n",
    "- Text variables\n",
    "- Multiple choices (DA7a-d, DA8a-d)"
   ]
  },
  {
   "cell_type": "code",
   "execution_count": 4,
   "metadata": {},
   "outputs": [],
   "source": [
    "df_C1W1nonet = df_C1W1nonet.drop(columns=['PID','PID2','ID13','ID14','ND13','ND15',\n",
    "                            'DA7a','DA7a_11_TEXT','DA7b','DA7b_11_TEXT','DA7c','DA7c_13_TEXT','DA7d','DA7d_11_TEXT',\n",
    "                            'DA8a','DA8a_13_TEXT','DA8b','DA8b_11_TEXT','DA8c','DA8c_11_TEXT','DA8d','DA8d_11_TEXT',\n",
    "                            'DM12_6_TEXT'])\n",
    "df_C1W2nonet = df_C1W2nonet.drop(columns=['PID','PID2','Interviewer_ID','Q50','Q51','Q81','Q84',\n",
    "                                        'Q103_R11_Other','Q105_R11_Other','Q207_R5','Q208_R4'])"
   ]
  },
  {
   "cell_type": "markdown",
   "metadata": {},
   "source": [
    "All substances (4 main groups):\n",
    "\n",
    "- Tobacco\n",
    "- Alcohol\n",
    "- Injection drug\n",
    "    - heroin\n",
    "    - prescription opioids\n",
    "    - methamphetamine\n",
    "    - cocaine\n",
    "    - heroin and cocaine speedball\n",
    "    - heroin and methamphetamine speedball\n",
    "    - crack cocaine\n",
    "    - buprenorphine\n",
    "- Non-injection drug\n",
    "    - marijuana\n",
    "    - cocaine\n",
    "    - Ecstasy/MDMA\n",
    "    - PCP/angel dust\n",
    "    - amphetamines\n",
    "    - methamphetamine\n",
    "    - barbiturates\n",
    "    - benzodiazepines\n",
    "    - opiates/opioids\n",
    "    - heroin"
   ]
  },
  {
   "cell_type": "markdown",
   "metadata": {},
   "source": [
    "### Missing Data Imputation\n",
    "\n",
    "Note that below blocks only impute MNAR data, MAR data is manually imputed beforehand."
   ]
  },
  {
   "cell_type": "markdown",
   "metadata": {},
   "source": [
    "If variable type is (pure) numerical, impute using the mean of corresponding column."
   ]
  },
  {
   "cell_type": "code",
   "execution_count": 5,
   "metadata": {},
   "outputs": [],
   "source": [
    "vars_num = ['SC1','DM1']  # all numerical variables in W1\n",
    "\n",
    "for v in vars_num:\n",
    "    col = df_C1W1nonet[v]\n",
    "    df_C1W1nonet[v] = col.fillna(col.mean())"
   ]
  },
  {
   "cell_type": "markdown",
   "metadata": {},
   "source": [
    "If variable type is mixed (e.g., age first did sth, or never, or don't know), convert into pure categorical:\n",
    "\n",
    "[0: 0-14 years old; 1: 15-24; 2: 25-64; 3: >=65; 4: never; 5: don't know]"
   ]
  },
  {
   "cell_type": "code",
   "execution_count": 6,
   "metadata": {},
   "outputs": [],
   "source": [
    "vars_mixed = ['TB2','TB6','TB10','AL1','AL2','AL3','ID2','ND2']\n",
    "\n",
    "for v in vars_mixed:\n",
    "    col = df_C1W1nonet[v]\n",
    "    for idx, i in enumerate(col):\n",
    "        if 0 <= i <= 14:    df_C1W1nonet.at[idx, v] = 0  # children\n",
    "        elif 15 <= i <= 24: df_C1W1nonet.at[idx, v] = 1  # youth\n",
    "        elif 25 <= i <= 64: df_C1W1nonet.at[idx, v] = 2  # adult\n",
    "        elif i >= 65:       df_C1W1nonet.at[idx, v] = 3  # senior\n",
    "        elif i == -1:       df_C1W1nonet.at[idx, v] = 4  # never\n",
    "        elif i == -2:       df_C1W1nonet.at[idx, v] = 5  # don't know"
   ]
  },
  {
   "cell_type": "markdown",
   "metadata": {},
   "source": [
    "If variable type is categorical/binary, impute using the most frequent value of corresponding column."
   ]
  },
  {
   "cell_type": "code",
   "execution_count": 7,
   "metadata": {},
   "outputs": [],
   "source": [
    "# X_train, X_test, y_train, y_test = train_test_split(df_C1W1nonet, y, test_size = 0.30)\n",
    "imp = SimpleImputer(missing_values=np.nan, strategy='most_frequent')\n",
    "imp = imp.fit(df_C1W1nonet)\n",
    "X_imp = imp.transform(df_C1W1nonet)"
   ]
  },
  {
   "cell_type": "code",
   "execution_count": 21,
   "metadata": {},
   "outputs": [
    {
     "name": "stdout",
     "output_type": "stream",
     "text": [
      "(35, 176)\n",
      "Any nan left? False\n"
     ]
    }
   ],
   "source": [
    "print(X_imp.shape)\n",
    "print(f'Any nan left? {np.isnan(X_imp).any()}')"
   ]
  },
  {
   "cell_type": "markdown",
   "metadata": {},
   "source": [
    "### Grouping Features"
   ]
  },
  {
   "cell_type": "code",
   "execution_count": 40,
   "metadata": {},
   "outputs": [
    {
     "name": "stdout",
     "output_type": "stream",
     "text": [
      "SC (8): ['SC1', 'SC3', 'SC4', 'SC5', 'SC6', 'SC8', 'SC9', 'SC13']\n",
      "DM (10): ['DM1', 'DM8', 'DM9', 'DM10', 'DM12', 'DM13', 'DM14', 'DM15', 'DM17', 'DM23']\n",
      "TB (12): ['TB1', 'TB2', 'TB3', 'TB4', 'TB5', 'TB6', 'TB7', 'TB8', 'TB9', 'TB10', 'TB11', 'TB12']\n",
      "AL (6): ['AL1', 'AL2', 'AL3', 'AL4', 'AL5', 'AL6']\n",
      "ID (18): ['ID1', 'ID2', 'ID3', 'ID4', 'ID5', 'ID6', 'ID7', 'ID8', 'ID9', 'ID10', 'ID11', 'ID12', 'ID15', 'ID16', 'ID17', 'ID18', 'ID19', 'ID20']\n",
      "ND (12): ['ND1', 'ND2', 'ND3', 'ND4', 'ND5', 'ND6', 'ND7', 'ND8', 'ND9', 'ND10', 'ND11', 'ND12']\n",
      "DA (56): ['DA1_1', 'DA1_2', 'DA1_3', 'DA1_4', 'DA1_5', 'DA1_6', 'DA1_7', 'DA2_1', 'DA2_2', 'DA2_3', 'DA2_4', 'DA2_5', 'DA2_6', 'DA2_7', 'DA5_R1', 'DA5_R2', 'DA5_R3', 'DA5_R4', 'DA5_R5', 'DA6_R1', 'DA6_R2', 'DA6_R3', 'DA6_R4', 'DA6_R5', 'DA7_R1', 'DA7_R2', 'DA7_R3', 'DA7_R4', 'DA7_R5', \"DA7'_R1\", \"DA7'_R2\", \"DA7'_R3\", \"DA7'_R4\", \"DA7'_R5\", \"DA7'_R6\", \"DA7'_R7\", \"DA7'_R8\", \"DA7'_R9\", \"DA7'_R10\", \"DA7'_R11\", 'DA8_R1', 'DA8_R2', 'DA8_R3', 'DA8_R4', 'DA8_R5', \"DA8'_R1\", \"DA8'_R2\", \"DA8'_R3\", \"DA8'_R4\", \"DA8'_R5\", \"DA8'_R6\", \"DA8'_R7\", \"DA8'_R8\", \"DA8'_R9\", \"DA8'_R10\", \"DA8'_R11\"]\n",
      "OD (8): ['OD1', 'OD2', 'OD6', 'OD7', 'OD8', 'OD9', 'OD10', 'OD11']\n",
      "TX (14): ['TX1_1', 'TX1_2', 'TX1_3', 'TX1_4', 'TX1_5', 'TX1_6', 'TX1_7', 'TX2_1', 'TX2_2', 'TX2_3', 'TX2_4', 'TX2_5', 'TX2_6', 'TX2_7']\n",
      "AC (25): ['AC1A', 'AC1B', 'AC2A', 'AC2B', 'AC3A', 'AC3B', 'AC3C', 'AC3D', 'AC4A', 'AC4B', 'AC5A', 'AC5B', 'AC6', 'AC7A', 'AC7B', 'AC7C', 'AC8A', 'AC8B', 'AC9A', 'AC9B', 'AC10', 'AC11', 'AC12', 'AC13', 'AC14']\n",
      "CJ (7): ['CJ1', 'CJ2', 'CJ3', 'CJ4', 'CJ5', 'CJ6', 'CJ7']\n"
     ]
    }
   ],
   "source": [
    "f_dict = {}\n",
    "fgroups = ['SC', 'DM', 'TB', 'AL', 'ID', 'ND', 'DA', 'OD', 'TX', 'AC', 'CJ']  # feature groups\n",
    "for g in fgroups:\n",
    "    features = [c for c in df_C1W1nonet if c.startswith(g)]\n",
    "    f_indices = [df_C1W1nonet.columns.get_loc(c) for c in df_C1W1nonet if c.startswith(g)]  # column indices of the group's features\n",
    "    f_dict[g] = f_indices\n",
    "    print(f'{g} ({len(features)}): {features}')"
   ]
  },
  {
   "cell_type": "markdown",
   "metadata": {},
   "source": [
    "Example: access feature group 'AL' directly from X_imp (2D array)"
   ]
  },
  {
   "cell_type": "code",
   "execution_count": 49,
   "metadata": {},
   "outputs": [
    {
     "name": "stdout",
     "output_type": "stream",
     "text": [
      "(35, 6)\n"
     ]
    },
    {
     "data": {
      "text/plain": [
       "array([[1., 1., 1., 1., 4., 3.],\n",
       "       [0., 1., 1., 1., 3., 1.],\n",
       "       [1., 1., 2., 1., 7., 3.],\n",
       "       [0., 1., 1., 1., 4., 2.],\n",
       "       [1., 1., 1., 1., 5., 5.],\n",
       "       [1., 1., 1., 1., 1., 1.],\n",
       "       [0., 1., 1., 1., 7., 5.],\n",
       "       [5., 5., 5., 1., 7., 0.],\n",
       "       [4., 4., 4., 0., 0., 0.],\n",
       "       [4., 4., 4., 0., 0., 0.],\n",
       "       [0., 1., 2., 1., 7., 6.],\n",
       "       [0., 0., 0., 1., 4., 5.],\n",
       "       [0., 0., 0., 0., 0., 0.],\n",
       "       [1., 1., 2., 1., 0., 0.],\n",
       "       [1., 1., 1., 1., 4., 0.],\n",
       "       [1., 1., 1., 1., 4., 2.],\n",
       "       [0., 1., 0., 1., 6., 5.],\n",
       "       [1., 1., 1., 1., 0., 0.],\n",
       "       [1., 1., 1., 1., 0., 0.],\n",
       "       [0., 0., 0., 1., 6., 6.],\n",
       "       [1., 1., 1., 1., 7., 0.],\n",
       "       [1., 1., 5., 1., 1., 0.],\n",
       "       [1., 5., 2., 1., 1., 0.],\n",
       "       [1., 1., 1., 0., 0., 0.],\n",
       "       [0., 1., 1., 1., 5., 1.],\n",
       "       [1., 1., 1., 1., 7., 5.],\n",
       "       [0., 0., 0., 0., 0., 0.],\n",
       "       [0., 0., 0., 0., 0., 0.],\n",
       "       [0., 0., 0., 1., 7., 4.],\n",
       "       [1., 1., 1., 1., 6., 6.],\n",
       "       [1., 1., 1., 1., 0., 0.],\n",
       "       [0., 0., 1., 1., 6., 4.],\n",
       "       [1., 1., 1., 1., 3., 2.],\n",
       "       [0., 0., 1., 1., 5., 5.],\n",
       "       [1., 1., 1., 1., 1., 1.]])"
      ]
     },
     "execution_count": 49,
     "metadata": {},
     "output_type": "execute_result"
    }
   ],
   "source": [
    "print(X_imp[:,f_dict['AL']].shape)\n",
    "X_imp[:,f_dict['AL']]"
   ]
  },
  {
   "cell_type": "markdown",
   "metadata": {},
   "source": [
    "Example: access list of feature groups ['AL', 'ID'] directly from X_imp (2D array)"
   ]
  },
  {
   "cell_type": "code",
   "execution_count": 84,
   "metadata": {},
   "outputs": [
    {
     "data": {
      "text/plain": [
       "array([[ 1.,  1.,  1.,  1.,  4.,  3.,  0.,  4.,  0.,  0.,  0.,  0.,  0.,\n",
       "         0.,  0.,  0.,  0.,  0., -1., -1., -1., -1., -1., -1.],\n",
       "       [ 0.,  1.,  1.,  1.,  3.,  1.,  0.,  4.,  0.,  0.,  0.,  0.,  0.,\n",
       "         0.,  0.,  0.,  0.,  0., -1., -1., -1., -1., -1., -1.],\n",
       "       [ 1.,  1.,  2.,  1.,  7.,  3.,  0.,  4.,  0.,  0.,  0.,  0.,  0.,\n",
       "         0.,  0.,  0.,  0.,  0., -1., -1., -1., -1., -1., -1.],\n",
       "       [ 0.,  1.,  1.,  1.,  4.,  2.,  0.,  4.,  0.,  0.,  0.,  0.,  0.,\n",
       "         0.,  0.,  0.,  0.,  0., -1., -1., -1., -1., -1., -1.],\n",
       "       [ 1.,  1.,  1.,  1.,  5.,  5.,  0.,  4.,  0.,  0.,  0.,  0.,  0.,\n",
       "         0.,  0.,  0.,  0.,  0., -1., -1., -1., -1., -1., -1.],\n",
       "       [ 1.,  1.,  1.,  1.,  1.,  1.,  1.,  1.,  0.,  0.,  0.,  0.,  0.,\n",
       "         0.,  0.,  0.,  0.,  0., -1., -1., -1., -1., -1., -1.],\n",
       "       [ 0.,  1.,  1.,  1.,  7.,  5.,  0.,  4.,  0.,  0.,  0.,  0.,  0.,\n",
       "         0.,  0.,  0.,  0.,  0., -1., -1., -1., -1., -1., -1.],\n",
       "       [ 5.,  5.,  5.,  1.,  7.,  0.,  0.,  4.,  0.,  0.,  0.,  0.,  0.,\n",
       "         0.,  0.,  0.,  0.,  0., -1., -1., -1., -1., -1., -1.],\n",
       "       [ 4.,  4.,  4.,  0.,  0.,  0.,  0.,  4.,  0.,  0.,  0.,  0.,  0.,\n",
       "         0.,  0.,  0.,  0.,  0., -1., -1., -1., -1., -1., -1.],\n",
       "       [ 4.,  4.,  4.,  0.,  0.,  0.,  0.,  4.,  0.,  0.,  0.,  0.,  0.,\n",
       "         0.,  0.,  0.,  0.,  0., -1., -1., -1., -1., -1., -1.],\n",
       "       [ 0.,  1.,  2.,  1.,  7.,  6.,  0.,  4.,  0.,  0.,  0.,  0.,  0.,\n",
       "         0.,  0.,  0.,  0.,  0., -1., -1., -1., -1., -1., -1.],\n",
       "       [ 0.,  0.,  0.,  1.,  4.,  5.,  0.,  4.,  0.,  0.,  0.,  0.,  0.,\n",
       "         0.,  0.,  0.,  0.,  0., -1., -1., -1., -1., -1., -1.],\n",
       "       [ 0.,  0.,  0.,  0.,  0.,  0.,  1.,  1.,  0.,  0.,  0.,  0.,  0.,\n",
       "         0.,  0.,  0.,  0.,  0., -1., -1., -1., -1., -1., -1.],\n",
       "       [ 1.,  1.,  2.,  1.,  0.,  0.,  0.,  4.,  0.,  0.,  0.,  0.,  0.,\n",
       "         0.,  0.,  0.,  0.,  0., -1., -1., -1., -1., -1., -1.],\n",
       "       [ 1.,  1.,  1.,  1.,  4.,  0.,  0.,  4.,  0.,  0.,  0.,  0.,  0.,\n",
       "         0.,  0.,  0.,  0.,  0., -1., -1., -1., -1., -1., -1.],\n",
       "       [ 1.,  1.,  1.,  1.,  4.,  2.,  1.,  2.,  3.,  0.,  0.,  3.,  0.,\n",
       "         0.,  0.,  0.,  0.,  0.,  4.,  0.,  0., -1., -1., -1.],\n",
       "       [ 0.,  1.,  0.,  1.,  6.,  5.,  0.,  4.,  0.,  0.,  0.,  0.,  0.,\n",
       "         0.,  0.,  0.,  0.,  0., -1., -1., -1., -1., -1., -1.],\n",
       "       [ 1.,  1.,  1.,  1.,  0.,  0.,  1.,  1.,  0.,  0.,  0.,  0.,  0.,\n",
       "         0.,  0.,  0.,  0.,  0., -1., -1., -1., -1., -1., -1.],\n",
       "       [ 1.,  1.,  1.,  1.,  0.,  0.,  0.,  4.,  0.,  0.,  0.,  0.,  0.,\n",
       "         0.,  0.,  0.,  0.,  0., -1., -1., -1., -1., -1., -1.],\n",
       "       [ 0.,  0.,  0.,  1.,  6.,  6.,  1.,  2.,  4.,  0.,  0.,  4.,  0.,\n",
       "         0.,  0.,  0.,  0.,  0.,  4.,  0.,  1.,  1.,  0.,  1.],\n",
       "       [ 1.,  1.,  1.,  1.,  7.,  0.,  0.,  4.,  0.,  0.,  0.,  0.,  0.,\n",
       "         0.,  0.,  0.,  0.,  0., -1., -1., -1., -1., -1., -1.],\n",
       "       [ 1.,  1.,  5.,  1.,  1.,  0.,  1.,  1.,  1.,  0.,  0.,  1.,  0.,\n",
       "         0.,  0.,  0.,  0.,  0.,  3.,  0.,  1.,  1.,  1.,  0.],\n",
       "       [ 1.,  5.,  2.,  1.,  1.,  0.,  0.,  4.,  0.,  0.,  0.,  0.,  0.,\n",
       "         0.,  0.,  0.,  0.,  0., -1., -1., -1., -1., -1., -1.],\n",
       "       [ 1.,  1.,  1.,  0.,  0.,  0.,  1.,  2.,  1.,  0.,  0.,  1.,  0.,\n",
       "         0.,  0.,  0.,  0.,  0.,  4.,  0.,  0., -1., -1., -1.],\n",
       "       [ 0.,  1.,  1.,  1.,  5.,  1.,  1.,  2.,  0.,  0.,  0.,  0.,  0.,\n",
       "         0.,  0.,  0.,  0.,  0., -1., -1., -1., -1., -1., -1.],\n",
       "       [ 1.,  1.,  1.,  1.,  7.,  5.,  0.,  4.,  0.,  0.,  0.,  0.,  0.,\n",
       "         0.,  0.,  0.,  0.,  0., -1., -1., -1., -1., -1., -1.],\n",
       "       [ 0.,  0.,  0.,  0.,  0.,  0.,  1.,  2.,  0.,  0.,  0.,  0.,  0.,\n",
       "         0.,  0.,  0.,  0.,  0., -1., -1., -1., -1., -1., -1.],\n",
       "       [ 0.,  0.,  0.,  0.,  0.,  0.,  1.,  1.,  3.,  1.,  3.,  3.,  1.,\n",
       "         1.,  1.,  0.,  0.,  0.,  2.,  1.,  1.,  0.,  1.,  0.],\n",
       "       [ 0.,  0.,  0.,  1.,  7.,  4.,  0.,  4.,  0.,  0.,  0.,  0.,  0.,\n",
       "         0.,  0.,  0.,  0.,  0., -1., -1., -1., -1., -1., -1.],\n",
       "       [ 1.,  1.,  1.,  1.,  6.,  6.,  0.,  4.,  0.,  0.,  0.,  0.,  0.,\n",
       "         0.,  0.,  0.,  0.,  0., -1., -1., -1., -1., -1., -1.],\n",
       "       [ 1.,  1.,  1.,  1.,  0.,  0.,  1.,  2.,  1.,  0.,  0.,  1.,  0.,\n",
       "         0.,  0.,  0.,  0.,  0.,  3.,  1.,  1.,  1.,  0.,  0.],\n",
       "       [ 0.,  0.,  1.,  1.,  6.,  4.,  0.,  4.,  0.,  0.,  0.,  0.,  0.,\n",
       "         0.,  0.,  0.,  0.,  0., -1., -1., -1., -1., -1., -1.],\n",
       "       [ 1.,  1.,  1.,  1.,  3.,  2.,  0.,  4.,  0.,  0.,  0.,  0.,  0.,\n",
       "         0.,  0.,  0.,  0.,  0., -1., -1., -1., -1., -1., -1.],\n",
       "       [ 0.,  0.,  1.,  1.,  5.,  5.,  1.,  0.,  3.,  0.,  1.,  4.,  0.,\n",
       "         0.,  0.,  0.,  0.,  0.,  3.,  1.,  1.,  1.,  0.,  0.],\n",
       "       [ 1.,  1.,  1.,  1.,  1.,  1.,  1.,  2.,  5.,  0.,  0.,  7.,  0.,\n",
       "         0.,  0.,  7.,  0.,  0.,  4.,  0.,  0., -1., -1., -1.]])"
      ]
     },
     "execution_count": 84,
     "metadata": {},
     "output_type": "execute_result"
    }
   ],
   "source": [
    "fsubsets = ['AL', 'ID']\n",
    "def get_f_indices(fsubsets):  # concatenate multiple feature groups (lists) into one big list of features\n",
    "    return [f for fgroup in [f_dict[s] for s in fsubsets] for f in fgroup]\n",
    "\n",
    "X_imp[:,get_f_indices(fsubsets)]"
   ]
  },
  {
   "cell_type": "markdown",
   "metadata": {},
   "source": [
    "### Labeling\n",
    "\n",
    "Binary labels indicating whether participants use more or less of each substance in wave 2 compared to wave 1"
   ]
  },
  {
   "cell_type": "code",
   "execution_count": 9,
   "metadata": {},
   "outputs": [
    {
     "name": "stdout",
     "output_type": "stream",
     "text": [
      "benchmark: tobacco = 0.7142857142857143, alcohol = 0.5142857142857142, inj = 0.7142857142857143, noninj = 0.6\n"
     ]
    }
   ],
   "source": [
    "y_tobacco = np.array([0,0,0,0,0,0,0,0,0,0,0,1,0,0,1,0,0,1,1,1,0,0,0,1,0,1,0,0,0,0,0,1,0,1,1])\n",
    "y_alcohol = np.array([1,0,0,1,0,1,0,1,0,1,0,0,0,1,1,0,1,1,1,0,1,0,1,1,1,0,0,0,1,1,0,0,0,0,1])\n",
    "y_inj =     np.array([0,0,0,1,0,1,0,1,0,0,0,0,0,0,0,1,0,0,0,1,1,0,0,0,0,0,1,0,0,0,1,1,1,0,0])\n",
    "y_noninj =  np.array([0,1,1,0,1,1,0,0,0,0,0,0,1,1,0,1,0,0,1,1,1,0,0,0,1,1,1,0,0,0,1,0,0,0,0])\n",
    "y_all = {'tobacco': y_tobacco, 'alcohol': y_alcohol, 'injection': y_inj, 'non-injection': y_noninj}\n",
    "\n",
    "def calc_bm(y):\n",
    "    return 1 - np.sum(y)/len(y)\n",
    "\n",
    "# if we classify everyone into the majority negative class (0), what is the accuracy?\n",
    "print(f'benchmark: tobacco = {calc_bm(y_tobacco)}, alcohol = {calc_bm(y_alcohol)}, inj = {calc_bm(y_inj)}, noninj = {calc_bm(y_noninj)}')"
   ]
  },
  {
   "cell_type": "markdown",
   "metadata": {},
   "source": [
    "### Training"
   ]
  },
  {
   "cell_type": "code",
   "execution_count": 10,
   "metadata": {},
   "outputs": [
    {
     "data": {
      "text/plain": [
       "35"
      ]
     },
     "execution_count": 10,
     "metadata": {},
     "output_type": "execute_result"
    }
   ],
   "source": [
    "loo = LeaveOneOut()\n",
    "loo.get_n_splits(X_imp)"
   ]
  },
  {
   "cell_type": "code",
   "execution_count": 11,
   "metadata": {},
   "outputs": [],
   "source": [
    "def loocv(X, y, model):\n",
    "    scores = []\n",
    "    for train_index, test_index in loo.split(X):\n",
    "        # print(\"TRAIN:\", train_index, \"TEST:\", test_index)\n",
    "        X_train, X_test = X[train_index], X[test_index]\n",
    "        y_train, y_test = y[train_index], y[test_index]\n",
    "        clf = model.fit(X_train, y_train)\n",
    "        score = clf.score(X_test, y_test)\n",
    "        # print(score)\n",
    "        scores.append(score)\n",
    "\n",
    "    return np.mean(scores)"
   ]
  },
  {
   "cell_type": "markdown",
   "metadata": {},
   "source": [
    "#### Logistic Regression"
   ]
  },
  {
   "cell_type": "code",
   "execution_count": 45,
   "metadata": {},
   "outputs": [],
   "source": [
    "penalty = ['l1', 'l2']\n",
    "C = [0.0001, 0.001, 0.01, 0.1, 1, 10, 100, 1000]\n",
    "solver = ['liblinear', 'newton-cg', 'lbfgs']\n",
    "\n",
    "param_grid = dict(penalty=penalty, C=C, solver=solver)\n",
    "grid = GridSearchCV(estimator=LogisticRegression(max_iter=1000, random_state=17, class_weight='balanced'),\n",
    "                    param_grid=param_grid,\n",
    "                    scoring='accuracy',\n",
    "                    cv=LeaveOneOut())"
   ]
  },
  {
   "cell_type": "markdown",
   "metadata": {},
   "source": [
    "Change in tobacco use"
   ]
  },
  {
   "cell_type": "code",
   "execution_count": 46,
   "metadata": {},
   "outputs": [
    {
     "name": "stdout",
     "output_type": "stream",
     "text": [
      "0.8285714285714286\n",
      "{'C': 1000, 'penalty': 'l1', 'solver': 'liblinear'}\n"
     ]
    },
    {
     "name": "stderr",
     "output_type": "stream",
     "text": [
      "/home/nthach17/anaconda3/lib/python3.9/site-packages/sklearn/model_selection/_validation.py:372: FitFailedWarning: \n",
      "560 fits failed out of a total of 1680.\n",
      "The score on these train-test partitions for these parameters will be set to nan.\n",
      "If these failures are not expected, you can try to debug them by setting error_score='raise'.\n",
      "\n",
      "Below are more details about the failures:\n",
      "--------------------------------------------------------------------------------\n",
      "280 fits failed with the following error:\n",
      "Traceback (most recent call last):\n",
      "  File \"/home/nthach17/anaconda3/lib/python3.9/site-packages/sklearn/model_selection/_validation.py\", line 680, in _fit_and_score\n",
      "    estimator.fit(X_train, y_train, **fit_params)\n",
      "  File \"/home/nthach17/anaconda3/lib/python3.9/site-packages/sklearn/linear_model/_logistic.py\", line 1461, in fit\n",
      "    solver = _check_solver(self.solver, self.penalty, self.dual)\n",
      "  File \"/home/nthach17/anaconda3/lib/python3.9/site-packages/sklearn/linear_model/_logistic.py\", line 447, in _check_solver\n",
      "    raise ValueError(\n",
      "ValueError: Solver newton-cg supports only 'l2' or 'none' penalties, got l1 penalty.\n",
      "\n",
      "--------------------------------------------------------------------------------\n",
      "280 fits failed with the following error:\n",
      "Traceback (most recent call last):\n",
      "  File \"/home/nthach17/anaconda3/lib/python3.9/site-packages/sklearn/model_selection/_validation.py\", line 680, in _fit_and_score\n",
      "    estimator.fit(X_train, y_train, **fit_params)\n",
      "  File \"/home/nthach17/anaconda3/lib/python3.9/site-packages/sklearn/linear_model/_logistic.py\", line 1461, in fit\n",
      "    solver = _check_solver(self.solver, self.penalty, self.dual)\n",
      "  File \"/home/nthach17/anaconda3/lib/python3.9/site-packages/sklearn/linear_model/_logistic.py\", line 447, in _check_solver\n",
      "    raise ValueError(\n",
      "ValueError: Solver lbfgs supports only 'l2' or 'none' penalties, got l1 penalty.\n",
      "\n",
      "  warnings.warn(some_fits_failed_message, FitFailedWarning)\n",
      "/home/nthach17/anaconda3/lib/python3.9/site-packages/sklearn/model_selection/_search.py:969: UserWarning: One or more of the test scores are non-finite: [0.71428571        nan        nan 0.71428571 0.48571429 0.48571429\n",
      " 0.71428571        nan        nan 0.51428571 0.42857143 0.42857143\n",
      " 0.71428571        nan        nan 0.57142857 0.57142857 0.57142857\n",
      " 0.6               nan        nan 0.57142857 0.62857143 0.62857143\n",
      " 0.62857143        nan        nan 0.57142857 0.6        0.6\n",
      " 0.68571429        nan        nan 0.57142857 0.6        0.6\n",
      " 0.77142857        nan        nan 0.57142857 0.6        0.6\n",
      " 0.82857143        nan        nan 0.6        0.6        0.6       ]\n",
      "  warnings.warn(\n"
     ]
    }
   ],
   "source": [
    "grid_TB = grid\n",
    "grid_TB.fit(X_imp, y_tobacco)\n",
    "\n",
    "print(grid_TB.best_score_)\n",
    "print(grid_TB.best_params_)"
   ]
  },
  {
   "cell_type": "code",
   "execution_count": 30,
   "metadata": {},
   "outputs": [
    {
     "name": "stdout",
     "output_type": "stream",
     "text": [
      "TRAIN: [ 1  2  3  4  5  6  7  8  9 10 11 12 13 14 15 16 17 18 19 20 21 22 23 24\n",
      " 25 26 27 28 29 30 31 32 33 34] TEST: [0]\n",
      "1.0\n",
      "TRAIN: [ 0  2  3  4  5  6  7  8  9 10 11 12 13 14 15 16 17 18 19 20 21 22 23 24\n",
      " 25 26 27 28 29 30 31 32 33 34] TEST: [1]\n",
      "1.0\n",
      "TRAIN: [ 0  1  3  4  5  6  7  8  9 10 11 12 13 14 15 16 17 18 19 20 21 22 23 24\n",
      " 25 26 27 28 29 30 31 32 33 34] TEST: [2]\n",
      "1.0\n",
      "TRAIN: [ 0  1  2  4  5  6  7  8  9 10 11 12 13 14 15 16 17 18 19 20 21 22 23 24\n",
      " 25 26 27 28 29 30 31 32 33 34] TEST: [3]\n",
      "1.0\n",
      "TRAIN: [ 0  1  2  3  5  6  7  8  9 10 11 12 13 14 15 16 17 18 19 20 21 22 23 24\n",
      " 25 26 27 28 29 30 31 32 33 34] TEST: [4]\n",
      "1.0\n",
      "TRAIN: [ 0  1  2  3  4  6  7  8  9 10 11 12 13 14 15 16 17 18 19 20 21 22 23 24\n",
      " 25 26 27 28 29 30 31 32 33 34] TEST: [5]\n",
      "1.0\n",
      "TRAIN: [ 0  1  2  3  4  5  7  8  9 10 11 12 13 14 15 16 17 18 19 20 21 22 23 24\n",
      " 25 26 27 28 29 30 31 32 33 34] TEST: [6]\n",
      "1.0\n",
      "TRAIN: [ 0  1  2  3  4  5  6  8  9 10 11 12 13 14 15 16 17 18 19 20 21 22 23 24\n",
      " 25 26 27 28 29 30 31 32 33 34] TEST: [7]\n",
      "1.0\n",
      "TRAIN: [ 0  1  2  3  4  5  6  7  9 10 11 12 13 14 15 16 17 18 19 20 21 22 23 24\n",
      " 25 26 27 28 29 30 31 32 33 34] TEST: [8]\n",
      "0.0\n",
      "TRAIN: [ 0  1  2  3  4  5  6  7  8 10 11 12 13 14 15 16 17 18 19 20 21 22 23 24\n",
      " 25 26 27 28 29 30 31 32 33 34] TEST: [9]\n",
      "1.0\n",
      "TRAIN: [ 0  1  2  3  4  5  6  7  8  9 11 12 13 14 15 16 17 18 19 20 21 22 23 24\n",
      " 25 26 27 28 29 30 31 32 33 34] TEST: [10]\n",
      "1.0\n",
      "TRAIN: [ 0  1  2  3  4  5  6  7  8  9 10 12 13 14 15 16 17 18 19 20 21 22 23 24\n",
      " 25 26 27 28 29 30 31 32 33 34] TEST: [11]\n",
      "0.0\n",
      "TRAIN: [ 0  1  2  3  4  5  6  7  8  9 10 11 13 14 15 16 17 18 19 20 21 22 23 24\n",
      " 25 26 27 28 29 30 31 32 33 34] TEST: [12]\n",
      "1.0\n",
      "TRAIN: [ 0  1  2  3  4  5  6  7  8  9 10 11 12 14 15 16 17 18 19 20 21 22 23 24\n",
      " 25 26 27 28 29 30 31 32 33 34] TEST: [13]\n",
      "1.0\n",
      "TRAIN: [ 0  1  2  3  4  5  6  7  8  9 10 11 12 13 15 16 17 18 19 20 21 22 23 24\n",
      " 25 26 27 28 29 30 31 32 33 34] TEST: [14]\n",
      "1.0\n",
      "TRAIN: [ 0  1  2  3  4  5  6  7  8  9 10 11 12 13 14 16 17 18 19 20 21 22 23 24\n",
      " 25 26 27 28 29 30 31 32 33 34] TEST: [15]\n",
      "1.0\n",
      "TRAIN: [ 0  1  2  3  4  5  6  7  8  9 10 11 12 13 14 15 17 18 19 20 21 22 23 24\n",
      " 25 26 27 28 29 30 31 32 33 34] TEST: [16]\n",
      "1.0\n",
      "TRAIN: [ 0  1  2  3  4  5  6  7  8  9 10 11 12 13 14 15 16 18 19 20 21 22 23 24\n",
      " 25 26 27 28 29 30 31 32 33 34] TEST: [17]\n",
      "0.0\n",
      "TRAIN: [ 0  1  2  3  4  5  6  7  8  9 10 11 12 13 14 15 16 17 19 20 21 22 23 24\n",
      " 25 26 27 28 29 30 31 32 33 34] TEST: [18]\n",
      "1.0\n",
      "TRAIN: [ 0  1  2  3  4  5  6  7  8  9 10 11 12 13 14 15 16 17 18 20 21 22 23 24\n",
      " 25 26 27 28 29 30 31 32 33 34] TEST: [19]\n",
      "1.0\n",
      "TRAIN: [ 0  1  2  3  4  5  6  7  8  9 10 11 12 13 14 15 16 17 18 19 21 22 23 24\n",
      " 25 26 27 28 29 30 31 32 33 34] TEST: [20]\n",
      "1.0\n",
      "TRAIN: [ 0  1  2  3  4  5  6  7  8  9 10 11 12 13 14 15 16 17 18 19 20 22 23 24\n",
      " 25 26 27 28 29 30 31 32 33 34] TEST: [21]\n",
      "1.0\n",
      "TRAIN: [ 0  1  2  3  4  5  6  7  8  9 10 11 12 13 14 15 16 17 18 19 20 21 23 24\n",
      " 25 26 27 28 29 30 31 32 33 34] TEST: [22]\n",
      "1.0\n",
      "TRAIN: [ 0  1  2  3  4  5  6  7  8  9 10 11 12 13 14 15 16 17 18 19 20 21 22 24\n",
      " 25 26 27 28 29 30 31 32 33 34] TEST: [23]\n",
      "0.0\n",
      "TRAIN: [ 0  1  2  3  4  5  6  7  8  9 10 11 12 13 14 15 16 17 18 19 20 21 22 23\n",
      " 25 26 27 28 29 30 31 32 33 34] TEST: [24]\n",
      "1.0\n",
      "TRAIN: [ 0  1  2  3  4  5  6  7  8  9 10 11 12 13 14 15 16 17 18 19 20 21 22 23\n",
      " 24 26 27 28 29 30 31 32 33 34] TEST: [25]\n",
      "0.0\n",
      "TRAIN: [ 0  1  2  3  4  5  6  7  8  9 10 11 12 13 14 15 16 17 18 19 20 21 22 23\n",
      " 24 25 27 28 29 30 31 32 33 34] TEST: [26]\n",
      "1.0\n",
      "TRAIN: [ 0  1  2  3  4  5  6  7  8  9 10 11 12 13 14 15 16 17 18 19 20 21 22 23\n",
      " 24 25 26 28 29 30 31 32 33 34] TEST: [27]\n",
      "1.0\n",
      "TRAIN: [ 0  1  2  3  4  5  6  7  8  9 10 11 12 13 14 15 16 17 18 19 20 21 22 23\n",
      " 24 25 26 27 29 30 31 32 33 34] TEST: [28]\n",
      "1.0\n",
      "TRAIN: [ 0  1  2  3  4  5  6  7  8  9 10 11 12 13 14 15 16 17 18 19 20 21 22 23\n",
      " 24 25 26 27 28 30 31 32 33 34] TEST: [29]\n",
      "0.0\n",
      "TRAIN: [ 0  1  2  3  4  5  6  7  8  9 10 11 12 13 14 15 16 17 18 19 20 21 22 23\n",
      " 24 25 26 27 28 29 31 32 33 34] TEST: [30]\n",
      "1.0\n",
      "TRAIN: [ 0  1  2  3  4  5  6  7  8  9 10 11 12 13 14 15 16 17 18 19 20 21 22 23\n",
      " 24 25 26 27 28 29 30 32 33 34] TEST: [31]\n",
      "1.0\n",
      "TRAIN: [ 0  1  2  3  4  5  6  7  8  9 10 11 12 13 14 15 16 17 18 19 20 21 22 23\n",
      " 24 25 26 27 28 29 30 31 33 34] TEST: [32]\n",
      "1.0\n",
      "TRAIN: [ 0  1  2  3  4  5  6  7  8  9 10 11 12 13 14 15 16 17 18 19 20 21 22 23\n",
      " 24 25 26 27 28 29 30 31 32 34] TEST: [33]\n",
      "1.0\n",
      "TRAIN: [ 0  1  2  3  4  5  6  7  8  9 10 11 12 13 14 15 16 17 18 19 20 21 22 23\n",
      " 24 25 26 27 28 29 30 31 32 33] TEST: [34]\n",
      "1.0\n"
     ]
    },
    {
     "data": {
      "text/plain": [
       "0.8285714285714286"
      ]
     },
     "execution_count": 30,
     "metadata": {},
     "output_type": "execute_result"
    }
   ],
   "source": [
    "best_model = grid_TB.best_estimator_\n",
    "\n",
    "print(loocv(X_imp, y_tobacco, best_model))"
   ]
  },
  {
   "cell_type": "markdown",
   "metadata": {},
   "source": [
    "Change in alcohol use"
   ]
  },
  {
   "cell_type": "code",
   "execution_count": 60,
   "metadata": {},
   "outputs": [
    {
     "name": "stdout",
     "output_type": "stream",
     "text": [
      "0.6571428571428571\n",
      "{'C': 0.01, 'penalty': 'l2', 'solver': 'liblinear'}\n"
     ]
    },
    {
     "name": "stderr",
     "output_type": "stream",
     "text": [
      "/home/nthach17/anaconda3/lib/python3.9/site-packages/sklearn/model_selection/_validation.py:372: FitFailedWarning: \n",
      "560 fits failed out of a total of 1680.\n",
      "The score on these train-test partitions for these parameters will be set to nan.\n",
      "If these failures are not expected, you can try to debug them by setting error_score='raise'.\n",
      "\n",
      "Below are more details about the failures:\n",
      "--------------------------------------------------------------------------------\n",
      "280 fits failed with the following error:\n",
      "Traceback (most recent call last):\n",
      "  File \"/home/nthach17/anaconda3/lib/python3.9/site-packages/sklearn/model_selection/_validation.py\", line 680, in _fit_and_score\n",
      "    estimator.fit(X_train, y_train, **fit_params)\n",
      "  File \"/home/nthach17/anaconda3/lib/python3.9/site-packages/sklearn/linear_model/_logistic.py\", line 1461, in fit\n",
      "    solver = _check_solver(self.solver, self.penalty, self.dual)\n",
      "  File \"/home/nthach17/anaconda3/lib/python3.9/site-packages/sklearn/linear_model/_logistic.py\", line 447, in _check_solver\n",
      "    raise ValueError(\n",
      "ValueError: Solver newton-cg supports only 'l2' or 'none' penalties, got l1 penalty.\n",
      "\n",
      "--------------------------------------------------------------------------------\n",
      "280 fits failed with the following error:\n",
      "Traceback (most recent call last):\n",
      "  File \"/home/nthach17/anaconda3/lib/python3.9/site-packages/sklearn/model_selection/_validation.py\", line 680, in _fit_and_score\n",
      "    estimator.fit(X_train, y_train, **fit_params)\n",
      "  File \"/home/nthach17/anaconda3/lib/python3.9/site-packages/sklearn/linear_model/_logistic.py\", line 1461, in fit\n",
      "    solver = _check_solver(self.solver, self.penalty, self.dual)\n",
      "  File \"/home/nthach17/anaconda3/lib/python3.9/site-packages/sklearn/linear_model/_logistic.py\", line 447, in _check_solver\n",
      "    raise ValueError(\n",
      "ValueError: Solver lbfgs supports only 'l2' or 'none' penalties, got l1 penalty.\n",
      "\n",
      "  warnings.warn(some_fits_failed_message, FitFailedWarning)\n",
      "/home/nthach17/anaconda3/lib/python3.9/site-packages/sklearn/model_selection/_search.py:969: UserWarning: One or more of the test scores are non-finite: [0.51428571        nan        nan 0.45714286 0.45714286 0.45714286\n",
      " 0.51428571        nan        nan 0.57142857 0.48571429 0.48571429\n",
      " 0.51428571        nan        nan 0.65714286 0.57142857 0.57142857\n",
      " 0.48571429        nan        nan 0.6        0.6        0.6\n",
      " 0.6               nan        nan 0.6        0.6        0.6\n",
      " 0.6               nan        nan 0.6        0.6        0.6\n",
      " 0.51428571        nan        nan 0.6        0.6        0.6\n",
      " 0.6               nan        nan 0.6        0.6        0.6       ]\n",
      "  warnings.warn(\n"
     ]
    }
   ],
   "source": [
    "grid_AL = grid\n",
    "grid_AL.fit(X_imp, y_alcohol)\n",
    "\n",
    "print(grid_AL.best_score_)\n",
    "print(grid_AL.best_params_)"
   ]
  },
  {
   "cell_type": "code",
   "execution_count": 61,
   "metadata": {},
   "outputs": [
    {
     "name": "stdout",
     "output_type": "stream",
     "text": [
      "TRAIN: [ 1  2  3  4  5  6  7  8  9 10 11 12 13 14 15 16 17 18 19 20 21 22 23 24\n",
      " 25 26 27 28 29 30 31 32 33 34] TEST: [0]\n",
      "1.0\n",
      "TRAIN: [ 0  2  3  4  5  6  7  8  9 10 11 12 13 14 15 16 17 18 19 20 21 22 23 24\n",
      " 25 26 27 28 29 30 31 32 33 34] TEST: [1]\n",
      "1.0\n",
      "TRAIN: [ 0  1  3  4  5  6  7  8  9 10 11 12 13 14 15 16 17 18 19 20 21 22 23 24\n",
      " 25 26 27 28 29 30 31 32 33 34] TEST: [2]\n",
      "1.0\n",
      "TRAIN: [ 0  1  2  4  5  6  7  8  9 10 11 12 13 14 15 16 17 18 19 20 21 22 23 24\n",
      " 25 26 27 28 29 30 31 32 33 34] TEST: [3]\n",
      "1.0\n",
      "TRAIN: [ 0  1  2  3  5  6  7  8  9 10 11 12 13 14 15 16 17 18 19 20 21 22 23 24\n",
      " 25 26 27 28 29 30 31 32 33 34] TEST: [4]\n",
      "1.0\n",
      "TRAIN: [ 0  1  2  3  4  6  7  8  9 10 11 12 13 14 15 16 17 18 19 20 21 22 23 24\n",
      " 25 26 27 28 29 30 31 32 33 34] TEST: [5]\n",
      "0.0\n",
      "TRAIN: [ 0  1  2  3  4  5  7  8  9 10 11 12 13 14 15 16 17 18 19 20 21 22 23 24\n",
      " 25 26 27 28 29 30 31 32 33 34] TEST: [6]\n",
      "1.0\n",
      "TRAIN: [ 0  1  2  3  4  5  6  8  9 10 11 12 13 14 15 16 17 18 19 20 21 22 23 24\n",
      " 25 26 27 28 29 30 31 32 33 34] TEST: [7]\n",
      "1.0\n",
      "TRAIN: [ 0  1  2  3  4  5  6  7  9 10 11 12 13 14 15 16 17 18 19 20 21 22 23 24\n",
      " 25 26 27 28 29 30 31 32 33 34] TEST: [8]\n",
      "0.0\n",
      "TRAIN: [ 0  1  2  3  4  5  6  7  8 10 11 12 13 14 15 16 17 18 19 20 21 22 23 24\n",
      " 25 26 27 28 29 30 31 32 33 34] TEST: [9]\n",
      "0.0\n",
      "TRAIN: [ 0  1  2  3  4  5  6  7  8  9 11 12 13 14 15 16 17 18 19 20 21 22 23 24\n",
      " 25 26 27 28 29 30 31 32 33 34] TEST: [10]\n",
      "1.0\n",
      "TRAIN: [ 0  1  2  3  4  5  6  7  8  9 10 12 13 14 15 16 17 18 19 20 21 22 23 24\n",
      " 25 26 27 28 29 30 31 32 33 34] TEST: [11]\n",
      "1.0\n",
      "TRAIN: [ 0  1  2  3  4  5  6  7  8  9 10 11 13 14 15 16 17 18 19 20 21 22 23 24\n",
      " 25 26 27 28 29 30 31 32 33 34] TEST: [12]\n",
      "0.0\n",
      "TRAIN: [ 0  1  2  3  4  5  6  7  8  9 10 11 12 14 15 16 17 18 19 20 21 22 23 24\n",
      " 25 26 27 28 29 30 31 32 33 34] TEST: [13]\n",
      "1.0\n",
      "TRAIN: [ 0  1  2  3  4  5  6  7  8  9 10 11 12 13 15 16 17 18 19 20 21 22 23 24\n",
      " 25 26 27 28 29 30 31 32 33 34] TEST: [14]\n",
      "1.0\n",
      "TRAIN: [ 0  1  2  3  4  5  6  7  8  9 10 11 12 13 14 16 17 18 19 20 21 22 23 24\n",
      " 25 26 27 28 29 30 31 32 33 34] TEST: [15]\n",
      "1.0\n",
      "TRAIN: [ 0  1  2  3  4  5  6  7  8  9 10 11 12 13 14 15 17 18 19 20 21 22 23 24\n",
      " 25 26 27 28 29 30 31 32 33 34] TEST: [16]\n",
      "0.0\n",
      "TRAIN: [ 0  1  2  3  4  5  6  7  8  9 10 11 12 13 14 15 16 18 19 20 21 22 23 24\n",
      " 25 26 27 28 29 30 31 32 33 34] TEST: [17]\n",
      "0.0\n",
      "TRAIN: [ 0  1  2  3  4  5  6  7  8  9 10 11 12 13 14 15 16 17 19 20 21 22 23 24\n",
      " 25 26 27 28 29 30 31 32 33 34] TEST: [18]\n",
      "1.0\n",
      "TRAIN: [ 0  1  2  3  4  5  6  7  8  9 10 11 12 13 14 15 16 17 18 20 21 22 23 24\n",
      " 25 26 27 28 29 30 31 32 33 34] TEST: [19]\n",
      "1.0\n",
      "TRAIN: [ 0  1  2  3  4  5  6  7  8  9 10 11 12 13 14 15 16 17 18 19 21 22 23 24\n",
      " 25 26 27 28 29 30 31 32 33 34] TEST: [20]\n",
      "1.0\n",
      "TRAIN: [ 0  1  2  3  4  5  6  7  8  9 10 11 12 13 14 15 16 17 18 19 20 22 23 24\n",
      " 25 26 27 28 29 30 31 32 33 34] TEST: [21]\n",
      "1.0\n",
      "TRAIN: [ 0  1  2  3  4  5  6  7  8  9 10 11 12 13 14 15 16 17 18 19 20 21 23 24\n",
      " 25 26 27 28 29 30 31 32 33 34] TEST: [22]\n",
      "1.0\n",
      "TRAIN: [ 0  1  2  3  4  5  6  7  8  9 10 11 12 13 14 15 16 17 18 19 20 21 22 24\n",
      " 25 26 27 28 29 30 31 32 33 34] TEST: [23]\n",
      "1.0\n",
      "TRAIN: [ 0  1  2  3  4  5  6  7  8  9 10 11 12 13 14 15 16 17 18 19 20 21 22 23\n",
      " 25 26 27 28 29 30 31 32 33 34] TEST: [24]\n",
      "0.0\n",
      "TRAIN: [ 0  1  2  3  4  5  6  7  8  9 10 11 12 13 14 15 16 17 18 19 20 21 22 23\n",
      " 24 26 27 28 29 30 31 32 33 34] TEST: [25]\n",
      "0.0\n",
      "TRAIN: [ 0  1  2  3  4  5  6  7  8  9 10 11 12 13 14 15 16 17 18 19 20 21 22 23\n",
      " 24 25 27 28 29 30 31 32 33 34] TEST: [26]\n",
      "1.0\n",
      "TRAIN: [ 0  1  2  3  4  5  6  7  8  9 10 11 12 13 14 15 16 17 18 19 20 21 22 23\n",
      " 24 25 26 28 29 30 31 32 33 34] TEST: [27]\n",
      "1.0\n",
      "TRAIN: [ 0  1  2  3  4  5  6  7  8  9 10 11 12 13 14 15 16 17 18 19 20 21 22 23\n",
      " 24 25 26 27 29 30 31 32 33 34] TEST: [28]\n",
      "0.0\n",
      "TRAIN: [ 0  1  2  3  4  5  6  7  8  9 10 11 12 13 14 15 16 17 18 19 20 21 22 23\n",
      " 24 25 26 27 28 30 31 32 33 34] TEST: [29]\n",
      "1.0\n",
      "TRAIN: [ 0  1  2  3  4  5  6  7  8  9 10 11 12 13 14 15 16 17 18 19 20 21 22 23\n",
      " 24 25 26 27 28 29 31 32 33 34] TEST: [30]\n",
      "0.0\n",
      "TRAIN: [ 0  1  2  3  4  5  6  7  8  9 10 11 12 13 14 15 16 17 18 19 20 21 22 23\n",
      " 24 25 26 27 28 29 30 32 33 34] TEST: [31]\n",
      "0.0\n",
      "TRAIN: [ 0  1  2  3  4  5  6  7  8  9 10 11 12 13 14 15 16 17 18 19 20 21 22 23\n",
      " 24 25 26 27 28 29 30 31 33 34] TEST: [32]\n",
      "1.0\n",
      "TRAIN: [ 0  1  2  3  4  5  6  7  8  9 10 11 12 13 14 15 16 17 18 19 20 21 22 23\n",
      " 24 25 26 27 28 29 30 31 32 34] TEST: [33]\n",
      "1.0\n",
      "TRAIN: [ 0  1  2  3  4  5  6  7  8  9 10 11 12 13 14 15 16 17 18 19 20 21 22 23\n",
      " 24 25 26 27 28 29 30 31 32 33] TEST: [34]\n",
      "0.0\n"
     ]
    },
    {
     "data": {
      "text/plain": [
       "0.6571428571428571"
      ]
     },
     "execution_count": 61,
     "metadata": {},
     "output_type": "execute_result"
    }
   ],
   "source": [
    "best_model = grid_AL.best_estimator_\n",
    "\n",
    "print(loocv(X_imp, y_alcohol, best_model))"
   ]
  },
  {
   "cell_type": "markdown",
   "metadata": {},
   "source": [
    "Change in injection drug use"
   ]
  },
  {
   "cell_type": "code",
   "execution_count": 53,
   "metadata": {},
   "outputs": [
    {
     "name": "stdout",
     "output_type": "stream",
     "text": [
      "0.7142857142857143\n",
      "{'C': 0.0001, 'penalty': 'l1', 'solver': 'liblinear'}\n"
     ]
    },
    {
     "name": "stderr",
     "output_type": "stream",
     "text": [
      "/home/nthach17/anaconda3/lib/python3.9/site-packages/sklearn/model_selection/_validation.py:372: FitFailedWarning: \n",
      "560 fits failed out of a total of 1680.\n",
      "The score on these train-test partitions for these parameters will be set to nan.\n",
      "If these failures are not expected, you can try to debug them by setting error_score='raise'.\n",
      "\n",
      "Below are more details about the failures:\n",
      "--------------------------------------------------------------------------------\n",
      "280 fits failed with the following error:\n",
      "Traceback (most recent call last):\n",
      "  File \"/home/nthach17/anaconda3/lib/python3.9/site-packages/sklearn/model_selection/_validation.py\", line 680, in _fit_and_score\n",
      "    estimator.fit(X_train, y_train, **fit_params)\n",
      "  File \"/home/nthach17/anaconda3/lib/python3.9/site-packages/sklearn/linear_model/_logistic.py\", line 1461, in fit\n",
      "    solver = _check_solver(self.solver, self.penalty, self.dual)\n",
      "  File \"/home/nthach17/anaconda3/lib/python3.9/site-packages/sklearn/linear_model/_logistic.py\", line 447, in _check_solver\n",
      "    raise ValueError(\n",
      "ValueError: Solver newton-cg supports only 'l2' or 'none' penalties, got l1 penalty.\n",
      "\n",
      "--------------------------------------------------------------------------------\n",
      "280 fits failed with the following error:\n",
      "Traceback (most recent call last):\n",
      "  File \"/home/nthach17/anaconda3/lib/python3.9/site-packages/sklearn/model_selection/_validation.py\", line 680, in _fit_and_score\n",
      "    estimator.fit(X_train, y_train, **fit_params)\n",
      "  File \"/home/nthach17/anaconda3/lib/python3.9/site-packages/sklearn/linear_model/_logistic.py\", line 1461, in fit\n",
      "    solver = _check_solver(self.solver, self.penalty, self.dual)\n",
      "  File \"/home/nthach17/anaconda3/lib/python3.9/site-packages/sklearn/linear_model/_logistic.py\", line 447, in _check_solver\n",
      "    raise ValueError(\n",
      "ValueError: Solver lbfgs supports only 'l2' or 'none' penalties, got l1 penalty.\n",
      "\n",
      "  warnings.warn(some_fits_failed_message, FitFailedWarning)\n",
      "/home/nthach17/anaconda3/lib/python3.9/site-packages/sklearn/model_selection/_search.py:969: UserWarning: One or more of the test scores are non-finite: [0.71428571        nan        nan 0.54285714 0.51428571 0.51428571\n",
      " 0.71428571        nan        nan 0.51428571 0.37142857 0.37142857\n",
      " 0.71428571        nan        nan 0.37142857 0.42857143 0.42857143\n",
      " 0.51428571        nan        nan 0.4        0.37142857 0.37142857\n",
      " 0.28571429        nan        nan 0.4        0.37142857 0.37142857\n",
      " 0.31428571        nan        nan 0.4        0.4        0.4\n",
      " 0.37142857        nan        nan 0.42857143 0.4        0.4\n",
      " 0.4               nan        nan 0.4        0.4        0.42857143]\n",
      "  warnings.warn(\n"
     ]
    }
   ],
   "source": [
    "grid_ID = grid\n",
    "grid_ID.fit(X_imp, y_inj)\n",
    "\n",
    "print(grid_ID.best_score_)\n",
    "print(grid_ID.best_params_)"
   ]
  },
  {
   "cell_type": "markdown",
   "metadata": {},
   "source": [
    "Change in non-injection drug use"
   ]
  },
  {
   "cell_type": "code",
   "execution_count": 54,
   "metadata": {},
   "outputs": [
    {
     "name": "stdout",
     "output_type": "stream",
     "text": [
      "0.6\n",
      "{'C': 0.0001, 'penalty': 'l1', 'solver': 'liblinear'}\n"
     ]
    },
    {
     "name": "stderr",
     "output_type": "stream",
     "text": [
      "/home/nthach17/anaconda3/lib/python3.9/site-packages/sklearn/model_selection/_validation.py:372: FitFailedWarning: \n",
      "560 fits failed out of a total of 1680.\n",
      "The score on these train-test partitions for these parameters will be set to nan.\n",
      "If these failures are not expected, you can try to debug them by setting error_score='raise'.\n",
      "\n",
      "Below are more details about the failures:\n",
      "--------------------------------------------------------------------------------\n",
      "280 fits failed with the following error:\n",
      "Traceback (most recent call last):\n",
      "  File \"/home/nthach17/anaconda3/lib/python3.9/site-packages/sklearn/model_selection/_validation.py\", line 680, in _fit_and_score\n",
      "    estimator.fit(X_train, y_train, **fit_params)\n",
      "  File \"/home/nthach17/anaconda3/lib/python3.9/site-packages/sklearn/linear_model/_logistic.py\", line 1461, in fit\n",
      "    solver = _check_solver(self.solver, self.penalty, self.dual)\n",
      "  File \"/home/nthach17/anaconda3/lib/python3.9/site-packages/sklearn/linear_model/_logistic.py\", line 447, in _check_solver\n",
      "    raise ValueError(\n",
      "ValueError: Solver newton-cg supports only 'l2' or 'none' penalties, got l1 penalty.\n",
      "\n",
      "--------------------------------------------------------------------------------\n",
      "280 fits failed with the following error:\n",
      "Traceback (most recent call last):\n",
      "  File \"/home/nthach17/anaconda3/lib/python3.9/site-packages/sklearn/model_selection/_validation.py\", line 680, in _fit_and_score\n",
      "    estimator.fit(X_train, y_train, **fit_params)\n",
      "  File \"/home/nthach17/anaconda3/lib/python3.9/site-packages/sklearn/linear_model/_logistic.py\", line 1461, in fit\n",
      "    solver = _check_solver(self.solver, self.penalty, self.dual)\n",
      "  File \"/home/nthach17/anaconda3/lib/python3.9/site-packages/sklearn/linear_model/_logistic.py\", line 447, in _check_solver\n",
      "    raise ValueError(\n",
      "ValueError: Solver lbfgs supports only 'l2' or 'none' penalties, got l1 penalty.\n",
      "\n",
      "  warnings.warn(some_fits_failed_message, FitFailedWarning)\n",
      "/home/nthach17/anaconda3/lib/python3.9/site-packages/sklearn/model_selection/_search.py:969: UserWarning: One or more of the test scores are non-finite: [0.6               nan        nan 0.42857143 0.14285714 0.14285714\n",
      " 0.6               nan        nan 0.2        0.11428571 0.11428571\n",
      " 0.6               nan        nan 0.22857143 0.25714286 0.25714286\n",
      " 0.45714286        nan        nan 0.25714286 0.31428571 0.31428571\n",
      " 0.37142857        nan        nan 0.25714286 0.31428571 0.31428571\n",
      " 0.4               nan        nan 0.25714286 0.31428571 0.31428571\n",
      " 0.48571429        nan        nan 0.28571429 0.31428571 0.31428571\n",
      " 0.37142857        nan        nan 0.28571429 0.34285714 0.28571429]\n",
      "  warnings.warn(\n"
     ]
    }
   ],
   "source": [
    "grid_ND = grid\n",
    "grid_ND.fit(X_imp, y_noninj)\n",
    "\n",
    "print(grid_ND.best_score_)\n",
    "print(grid_ND.best_params_)"
   ]
  },
  {
   "cell_type": "markdown",
   "metadata": {},
   "source": [
    "#### Decision Trees"
   ]
  },
  {
   "cell_type": "markdown",
   "metadata": {},
   "source": [
    "Note: Even when setting `max_features = n_features`, there is still randomness in the estimator, i.e., each run of model training is nondeterministic. This is due to the fact that if the splits' impurity measures are identical (e.g., same lowest gini scores), one split has to be selected at random. Thus, generate 100 seeds and average the accuracies across 100 runs afterwards.\n",
    "\n",
    "See https://scikit-learn.org/stable/modules/generated/sklearn.tree.DecisionTreeClassifier.html"
   ]
  },
  {
   "cell_type": "code",
   "execution_count": 23,
   "metadata": {},
   "outputs": [
    {
     "name": "stdout",
     "output_type": "stream",
     "text": [
      "final accuracy for tobacco: 0.6488571428571427 +- 0.029219786418920785\n",
      "final accuracy for alcohol: 0.5654285714285714 +- 0.04768861584941057\n",
      "final accuracy for injection: 0.5825714285714284 +- 0.03634191373438597\n",
      "final accuracy for non-injection: 0.34571428571428575 +- 0.05903993805649093\n"
     ]
    }
   ],
   "source": [
    "n_seeds = 100\n",
    "\n",
    "for drug, y in y_all.items():  # for each substance\n",
    "    mean_acc_list = []\n",
    "    for i in range(n_seeds):\n",
    "        model = DecisionTreeClassifier(class_weight='balanced',\n",
    "                                        max_features=len(df_C1W1nonet.columns),  # max_features = n features i.e., all\n",
    "                                        splitter='best',\n",
    "                                        random_state=i)\n",
    "        acc = loocv(X_imp, y, model)  # mean acc of 1 run (i.e., 1 seed) after performing LOOCV\n",
    "        # print(acc)\n",
    "        mean_acc_list.append(acc)\n",
    "\n",
    "\n",
    "    print(f'final accuracy for {drug}: {np.mean(mean_acc_list)} +- {np.std(mean_acc_list)}')"
   ]
  },
  {
   "cell_type": "markdown",
   "metadata": {},
   "source": [
    "A closer look into one instance"
   ]
  },
  {
   "cell_type": "code",
   "execution_count": 63,
   "metadata": {},
   "outputs": [
    {
     "data": {
      "image/png": "[encoded data removed]",
      "text/plain": [
       "<Figure size 720x720 with 1 Axes>"
      ]
     },
     "metadata": {
      "needs_background": "light"
     },
     "output_type": "display_data"
    }
   ],
   "source": [
    "model = DecisionTreeClassifier(class_weight='balanced',random_state=20)\n",
    "\n",
    "clf = model.fit(X_imp,y_tobacco)\n",
    "plt.figure(figsize=(10,10))\n",
    "plot_tree(clf,filled=True,fontsize=8,feature_names=list(df_C1W1nonet.columns),class_names=True)\n",
    "plt.show()"
   ]
  },
  {
   "cell_type": "markdown",
   "metadata": {},
   "source": [
    "Compare computational time between regular for loop (1 core) vs multiprocessing (20 cores/cpus)\n",
    "\n",
    "We see the improvement factor is 5."
   ]
  },
  {
   "cell_type": "code",
   "execution_count": 93,
   "metadata": {},
   "outputs": [],
   "source": [
    "def decision_trees(fsubset, n_seeds):  # fsubset: subset of feature groups\n",
    "    X = X_imp[:,get_f_indices(fsubset)]\n",
    "    final_accs = []\n",
    "    for drug, y in y_all.items():  # for each substance\n",
    "        mean_acc_list = []\n",
    "        for i in range(n_seeds):\n",
    "            model = DecisionTreeClassifier(class_weight='balanced',\n",
    "                                            max_features=X.shape[1],  # max_features = n features i.e., all\n",
    "                                            splitter='best',\n",
    "                                            random_state=i)\n",
    "            acc = loocv(X, y, model)  # mean acc of 1 run (i.e., 1 seed) after performing LOOCV\n",
    "            # print(acc)\n",
    "            mean_acc_list.append(acc)\n",
    "\n",
    "        final_accs.append( (np.mean(mean_acc_list), np.std(mean_acc_list)) )\n",
    "\n",
    "    return (fsubset, final_accs)"
   ]
  },
  {
   "cell_type": "code",
   "execution_count": 97,
   "metadata": {},
   "outputs": [],
   "source": [
    "from joblib import Parallel, delayed\n",
    "import multiprocessing\n",
    "\n",
    "# what are your inputs, and what operation do you want to\n",
    "# perform on each input. For example...\n",
    "inputs = list(powerset(fgroups))[1:11]\n",
    "\n",
    "num_cores = multiprocessing.cpu_count()\n",
    "results = Parallel(n_jobs=num_cores)(delayed(decision_trees)(i, n_seeds=100) for i in inputs)"
   ]
  },
  {
   "cell_type": "code",
   "execution_count": 100,
   "metadata": {},
   "outputs": [],
   "source": [
    "results = []\n",
    "for comb in list(powerset(fgroups))[1:11]:\n",
    "    results.append(decision_trees(comb, n_seeds=100))"
   ]
  },
  {
   "cell_type": "markdown",
   "metadata": {},
   "source": [
    "Run on all subsets of feature groups"
   ]
  },
  {
   "cell_type": "code",
   "execution_count": 102,
   "metadata": {},
   "outputs": [],
   "source": [
    "inputs = list(powerset(fgroups))[1:]\n",
    "\n",
    "num_cores = multiprocessing.cpu_count()\n",
    "results = Parallel(n_jobs=num_cores)(delayed(decision_trees)(i, n_seeds=100) for i in inputs)\n",
    "# format: results[i] = ( (f1,f2,f3), [(x,x), (x,x), (x,x), (x,x)] )"
   ]
  },
  {
   "cell_type": "code",
   "execution_count": 119,
   "metadata": {},
   "outputs": [
    {
     "name": "stdout",
     "output_type": "stream",
     "text": [
      "('AL', 'ND', 'TX'), ('AL', 'ID', 'ND', 'AC'), ('OD', 'TX', 'CJ'), ('ID', 'OD', 'TX', 'CJ')\n"
     ]
    }
   ],
   "source": [
    "TB_dict, AL_dict, ID_dict, ND_dict = {}, {}, {}, {}\n",
    "for r in results:\n",
    "    TB_dict[r[0]] = r[1][0][0]\n",
    "    AL_dict[r[0]] = r[1][1][0]\n",
    "    ID_dict[r[0]] = r[1][2][0]\n",
    "    ND_dict[r[0]] = r[1][3][0]\n",
    "\n",
    "print(f'{max(TB_dict, key=TB_dict.get)}, {max(AL_dict, key=AL_dict.get)}, {max(ID_dict, key=ID_dict.get)}, {max(ND_dict, key=ND_dict.get)}')"
   ]
  },
  {
   "cell_type": "code",
   "execution_count": 121,
   "metadata": {},
   "outputs": [
    {
     "name": "stdout",
     "output_type": "stream",
     "text": [
      "0.8688571428571429\n",
      "0.7831428571428571\n",
      "0.7831428571428571\n",
      "0.7771428571428569\n"
     ]
    }
   ],
   "source": [
    "print(TB_dict[('AL', 'ND', 'TX')])\n",
    "print(AL_dict[('AL', 'ID', 'ND', 'AC')])\n",
    "print(ID_dict[('OD', 'TX', 'CJ')])\n",
    "print(ND_dict[('ID', 'OD', 'TX', 'CJ')])"
   ]
  },
  {
   "cell_type": "markdown",
   "metadata": {},
   "source": [
    "#### Random Forest"
   ]
  },
  {
   "cell_type": "code",
   "execution_count": 24,
   "metadata": {},
   "outputs": [
    {
     "name": "stdout",
     "output_type": "stream",
     "text": [
      "final accuracy for tobacco: 0.7200000000000001 +- 0.011428571428571432\n",
      "final accuracy for alcohol: 0.5171428571428571 +- 0.0548839220351387\n",
      "final accuracy for injection: 0.6885714285714286 +- 0.020000000000000007\n",
      "final accuracy for non-injection: 0.44000000000000006 +- 0.05299210568854687\n"
     ]
    }
   ],
   "source": [
    "n_seeds = 10\n",
    "\n",
    "for drug, y in y_all.items():\n",
    "    mean_acc_list = []\n",
    "    for i in range(n_seeds):\n",
    "        model = RandomForestClassifier(n_estimators=100,\n",
    "                                        class_weight='balanced',\n",
    "                                        max_features='sqrt',  # max_features = sqrt(n_features)\n",
    "                                        bootstrap=True,\n",
    "                                        random_state=i)\n",
    "        acc = loocv(X_imp, y, model)  # mean acc of 1 run (i.e., 1 seed) after performing LOOCV\n",
    "        # print(acc)\n",
    "        mean_acc_list.append(acc)\n",
    "\n",
    "\n",
    "    print(f'final accuracy for {drug}: {np.mean(mean_acc_list)} +- {np.std(mean_acc_list)}')"
   ]
  },
  {
   "cell_type": "code",
   "execution_count": null,
   "metadata": {},
   "outputs": [
    {
     "name": "stdout",
     "output_type": "stream",
     "text": [
      "predictions: [[0 1 0 0]\n",
      " [0 1 0 0]\n",
      " [0 1 0 0]\n",
      " [0 0 0 0]\n",
      " [0 0 0 0]\n",
      " [0 1 0 0]\n",
      " [0 0 0 0]\n",
      " [0 1 0 0]\n",
      " [0 1 0 0]\n",
      " [0 0 0 0]\n",
      " [0 0 0 0]]\n",
      "test labels: [[0 0 1 1]\n",
      " [0 1 0 1]\n",
      " [0 1 0 1]\n",
      " [0 0 0 0]\n",
      " [0 0 1 1]\n",
      " [0 1 0 0]\n",
      " [1 0 1 1]\n",
      " [0 0 0 1]\n",
      " [0 0 0 0]\n",
      " [0 1 0 0]\n",
      " [0 1 0 0]]\n",
      "0.18181818181818182\n"
     ]
    }
   ],
   "source": [
    "model = 'forest'\n",
    "\n",
    "y = np.array([list(a) for a in zip(y_tobacco, y_alcohol, y_inj, y_noninj)])\n",
    "X_train, X_test, y_train, y_test = train_test_split(X_imp, y, test_size=0.3, random_state=42)\n",
    "\n",
    "if model == 'logreg':\n",
    "    clf = MultiOutputClassifier(LogisticRegression(solver='liblinear', penalty='l1')).fit(X_train, y_train)\n",
    "elif model == 'forest':\n",
    "    clf = MultiOutputClassifier(RandomForestClassifier()).fit(X_train, y_train)\n",
    "\n",
    "predictions = clf.predict(X_test)\n",
    "score = clf.score(X_test, y_test)\n",
    "print(f'predictions: {predictions}')\n",
    "print(f'test labels: {y_test}')\n",
    "print(score)\n",
    "\n",
    "# RocCurveDisplay.from_predictions(y_test,predictions)"
   ]
  },
  {
   "cell_type": "markdown",
   "metadata": {},
   "source": [
    "### PCA"
   ]
  },
  {
   "cell_type": "code",
   "execution_count": null,
   "metadata": {},
   "outputs": [
    {
     "data": {
      "text/plain": [
       "array([5.89880388e-01, 1.77891368e-01, 3.38629616e-02, 2.89192615e-02,\n",
       "       2.29850290e-02, 1.59752731e-02, 1.57407439e-02, 1.14975997e-02,\n",
       "       1.03707175e-02, 9.23910129e-03, 8.90749321e-03, 7.87784523e-03,\n",
       "       7.11929275e-03, 7.01044225e-03, 5.93853573e-03, 5.65753912e-03,\n",
       "       4.64920903e-03, 4.29160508e-03, 4.14284049e-03, 3.86177163e-03,\n",
       "       3.26924060e-03, 3.10649945e-03, 2.88756061e-03, 2.40806662e-03,\n",
       "       1.74972887e-03, 1.58729657e-03, 1.40023106e-03, 1.37961446e-03,\n",
       "       1.34423304e-03, 1.33633933e-03, 1.10915692e-03, 1.10061010e-03,\n",
       "       8.87306430e-04, 6.15097712e-04, 1.16333394e-31])"
      ]
     },
     "execution_count": 8,
     "metadata": {},
     "output_type": "execute_result"
    }
   ],
   "source": [
    "pca = PCA(n_components=None)\n",
    "X_pca = pca.fit_transform(X_imp)\n",
    "pca.explained_variance_ratio_"
   ]
  },
  {
   "cell_type": "code",
   "execution_count": null,
   "metadata": {},
   "outputs": [
    {
     "data": {
      "image/png": "[encoded data removed]",
      "text/plain": [
       "<Figure size 432x288 with 1 Axes>"
      ]
     },
     "metadata": {
      "needs_background": "light"
     },
     "output_type": "display_data"
    }
   ],
   "source": [
    "plt.bar(range(1,36), pca.explained_variance_ratio_, alpha=0.5, align='center', label='individual explained variance')\n",
    "plt.step(range(1,36), np.cumsum(pca.explained_variance_ratio_), where='mid', label='cumulative explained variance')\n",
    "plt.ylabel('Explained variance ratio')\n",
    "plt.xlabel('Principal component index')\n",
    "plt.legend(loc='right')\n",
    "plt.show()"
   ]
  }
 ],
 "metadata": {
  "kernelspec": {
   "display_name": "Python 3.9.12 ('base')",
   "language": "python",
   "name": "python3"
  },
  "language_info": {
   "codemirror_mode": {
    "name": "ipython",
    "version": 3
   },
   "file_extension": ".py",
   "mimetype": "text/x-python",
   "name": "python",
   "nbconvert_exporter": "python",
   "pygments_lexer": "ipython3",
   "version": "3.9.12"
  },
  "orig_nbformat": 4,
  "vscode": {
   "interpreter": {
    "hash": "2abc7d1412b351c343a4d86f19894027741fcfc3457eb52dff9547c08c1a4f79"
   }
  }
 },
 "nbformat": 4,
 "nbformat_minor": 2
}
