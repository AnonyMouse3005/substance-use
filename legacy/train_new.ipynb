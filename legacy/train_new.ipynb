{
 "cells": [
  {
   "cell_type": "code",
   "execution_count": 1,
   "metadata": {},
   "outputs": [],
   "source": [
    "import matplotlib.pyplot as plt\n",
    "import numpy as np\n",
    "import pandas as pd\n",
    "import re\n",
    "import json\n",
    "from joblib import Parallel, delayed\n",
    "import multiprocessing\n",
    "from tqdm import tqdm\n",
    "from helper import *\n",
    "\n",
    "from sklearn.linear_model import LogisticRegression\n",
    "from sklearn.ensemble import RandomForestClassifier\n",
    "from sklearn.model_selection import *\n",
    "from sklearn.impute import SimpleImputer\n",
    "from sklearn.metrics import RocCurveDisplay\n",
    "from sklearn.datasets import make_multilabel_classification\n",
    "from sklearn.multioutput import MultiOutputClassifier\n",
    "from sklearn.decomposition import PCA\n",
    "from sklearn.tree import DecisionTreeClassifier, plot_tree, export_text\n",
    "from sklearn.preprocessing import StandardScaler, OneHotEncoder\n",
    "from sklearn.svm import SVC\n",
    "\n",
    "from sklearn.utils._testing import ignore_warnings\n",
    "from sklearn.exceptions import ConvergenceWarning"
   ]
  },
  {
   "cell_type": "markdown",
   "metadata": {},
   "source": [
    "Due to different responses in multiple-choice variables of DA group, Cohort 2 has more variables than Cohort 1"
   ]
  },
  {
   "cell_type": "code",
   "execution_count": 26,
   "metadata": {},
   "outputs": [],
   "source": [
    "datapath = 'data/original/'\n",
    "df_C1W1nonet = pd.read_csv(datapath + 'C1W1_nonnetwork.csv')\n",
    "df_C1W1net = pd.read_csv(datapath + 'C1W1_network.csv')\n",
    "df_C2W1nonet = pd.read_csv(datapath + 'C2W1_nonnetwork.csv')\n",
    "\n",
    "textvars_C1W1nonet = [v for v in list(df_C1W1nonet.columns) if 'TEXT' in v]\n",
    "textvars_C1W1net = [v for v in list(df_C1W1net.columns) if 'TEXT' in v]\n",
    "textvars_C2W1nonet = [v for v in list(df_C2W1nonet.columns) if 'TEXT' in v or v not in list(df_C1W1nonet.columns)]"
   ]
  },
  {
   "cell_type": "markdown",
   "metadata": {},
   "source": [
    "Remove irrelevant/insignificant variables\n",
    "\n",
    "- IDs of participants/interviewers\n",
    "- Redundant variables (AL6B)\n",
    "- Text variables\n",
    "- Multiple choices (DA5, DA6, DA7, DA7a-d, DA8, DA8a-d)"
   ]
  },
  {
   "cell_type": "code",
   "execution_count": 3,
   "metadata": {},
   "outputs": [],
   "source": [
    "df_C1W1nonet = df_C1W1nonet.drop(columns=['PID','PID2','AL6B','ID13','ID14_4','ID14_5','ID14_6','ID14_7','ND13','ND15_4','ND15_5','ND15_6','ND15_7',\n",
    "                            'DA5','DA6','DA7','DA7a','DA7b','DA7c','DA7d','DA8','DA8a','DA8b','DA8c','DA8d'] + textvars_C1W1nonet)\n",
    "df_C1W1net = df_C1W1net.drop(columns=textvars_C1W1net)\n",
    "df_C2W1nonet = df_C2W1nonet.drop(columns=['PID','PID2','AL6B','ID13','ID14_4','ID14_5','ID14_6','ID14_7','ND13','ND15_4','ND15_5','ND15_6','ND15_7',\n",
    "                            'DA5','DA6','DA7','DA7a','DA7b','DA7c','DA7d','DA8','DA8a','DA8b','DA8c','DA8d'] + textvars_C2W1nonet)"
   ]
  },
  {
   "cell_type": "code",
   "execution_count": 4,
   "metadata": {},
   "outputs": [
    {
     "name": "stdout",
     "output_type": "stream",
     "text": [
      "219 219\n"
     ]
    }
   ],
   "source": [
    "print(len(list(df_C1W1nonet.columns)), len(list(df_C2W1nonet.columns)))"
   ]
  },
  {
   "cell_type": "markdown",
   "metadata": {},
   "source": [
    "### Missing Data Imputation\n",
    "\n",
    "Note that below blocks only impute MNAR data, MAR data is manually imputed beforehand."
   ]
  },
  {
   "cell_type": "markdown",
   "metadata": {},
   "source": [
    "If variable type is (pure) numerical, impute using the mean of corresponding column."
   ]
  },
  {
   "cell_type": "code",
   "execution_count": 5,
   "metadata": {},
   "outputs": [],
   "source": [
    "vars_num = ['SC1','DM1']  # all pure numerical variables in W1\n",
    "\n",
    "for v in vars_num:\n",
    "    col1 = df_C1W1nonet[v]\n",
    "    df_C1W1nonet[v] = col1.fillna(col1.mean())\n",
    "    col2 = df_C2W1nonet[v]\n",
    "    df_C2W1nonet[v] = col2.fillna(col2.mean())"
   ]
  },
  {
   "cell_type": "code",
   "execution_count": 6,
   "metadata": {},
   "outputs": [],
   "source": [
    "df = pd.concat([df_C1W1nonet, df_C2W1nonet], axis=0)"
   ]
  },
  {
   "cell_type": "markdown",
   "metadata": {},
   "source": [
    "If variable type is categorical/binary, impute using the most frequent value of corresponding column."
   ]
  },
  {
   "cell_type": "code",
   "execution_count": 7,
   "metadata": {},
   "outputs": [],
   "source": [
    "imp = SimpleImputer(missing_values=np.nan, strategy='most_frequent')\n",
    "imp = imp.fit(df)\n",
    "X_imp = imp.transform(df)"
   ]
  },
  {
   "cell_type": "code",
   "execution_count": 8,
   "metadata": {},
   "outputs": [
    {
     "name": "stdout",
     "output_type": "stream",
     "text": [
      "(115, 219)\n",
      "Any nan left? False\n"
     ]
    }
   ],
   "source": [
    "print(X_imp.shape)\n",
    "print(f'Any nan left? {np.isnan(X_imp).any()}')"
   ]
  },
  {
   "cell_type": "markdown",
   "metadata": {},
   "source": [
    "### Grouping Features"
   ]
  },
  {
   "cell_type": "code",
   "execution_count": 9,
   "metadata": {},
   "outputs": [
    {
     "name": "stdout",
     "output_type": "stream",
     "text": [
      "SC (8): ['SC1', 'SC3', 'SC4', 'SC5', 'SC6', 'SC8', 'SC9', 'SC13']\n",
      "DM (10): ['DM1', 'DM8', 'DM9', 'DM10', 'DM12', 'DM13', 'DM14', 'DM15', 'DM17', 'DM23']\n",
      "TB (12): ['TB1', 'TB2', 'TB3', 'TB4', 'TB5', 'TB6', 'TB7', 'TB8', 'TB9', 'TB10', 'TB11', 'TB12']\n",
      "AL (6): ['AL1', 'AL2', 'AL3', 'AL4', 'AL5', 'AL6A']\n",
      "ID (18): ['ID1', 'ID2', 'ID3', 'ID4', 'ID5', 'ID6', 'ID7', 'ID8', 'ID9', 'ID10', 'ID11', 'ID12', 'ID15', 'ID16', 'ID17', 'ID18', 'ID19', 'ID20']\n",
      "ND (12): ['ND1', 'ND2', 'ND3', 'ND4', 'ND5', 'ND6', 'ND7', 'ND8', 'ND9', 'ND10', 'ND11', 'ND12']\n",
      "DA (99): ['DA1_1', 'DA1_2', 'DA1_3', 'DA1_4', 'DA1_5', 'DA1_6', 'DA1_7', 'DA2_1', 'DA2_2', 'DA2_3', 'DA2_4', 'DA2_5', 'DA2_6', 'DA2_7', 'DA5_1', 'DA5_15', 'DA5_16', 'DA5_17', 'DA5_18', 'DA6_1', 'DA6_8', 'DA6_9', 'DA6_10', 'DA6_11', 'DA7_1', 'DA7_15', 'DA7_16', 'DA7_17', 'DA7_18', 'DA7a_1', 'DA7a_2', 'DA7a_3', 'DA7a_5', 'DA7a_6', 'DA7a_9', 'DA7a_11', 'DA7b_1', 'DA7b_2', 'DA7b_5', 'DA7b_6', 'DA7b_8', 'DA7b_9', 'DA7b_11', 'DA7c_1', 'DA7c_4', 'DA7c_5', 'DA7c_7', 'DA7c_8', 'DA7c_9', 'DA7c_10', 'DA7c_11', 'DA7c_13', 'DA7d_1', 'DA7d_2', 'DA7d_3', 'DA7d_6', 'DA7d_8', 'DA7d_9', 'DA7d_11', 'DA8_17', 'DA8_18', 'DA8_19', 'DA8_20', 'DA8_21', 'DA8a_1', 'DA8a_4', 'DA8a_5', 'DA8a_7', 'DA8a_8', 'DA8a_10', 'DA8a_13', 'DA8b_1', 'DA8b_2', 'DA8b_3', 'DA8b_5', 'DA8b_6', 'DA8b_8', 'DA8b_9', 'DA8b_11', 'DA8c_1', 'DA8c_2', 'DA8c_3', 'DA8c_5', 'DA8c_6', 'DA8c_7', 'DA8c_8', 'DA8c_9', 'DA8c_10', 'DA8c_11', 'DA8d_1', 'DA8d_2', 'DA8d_3', 'DA8d_5', 'DA8d_6', 'DA8d_7', 'DA8d_8', 'DA8d_9', 'DA8d_10', 'DA8d_11']\n",
      "OD (8): ['OD1', 'OD2', 'OD6', 'OD7', 'OD8', 'OD9', 'OD10', 'OD11']\n",
      "TX (14): ['TX1_1', 'TX1_2', 'TX1_3', 'TX1_4', 'TX1_5', 'TX1_6', 'TX1_7', 'TX2_1', 'TX2_2', 'TX2_3', 'TX2_4', 'TX2_5', 'TX2_6', 'TX2_7']\n",
      "AC (25): ['AC1A', 'AC1B', 'AC2A', 'AC2B', 'AC3A', 'AC3B', 'AC3C', 'AC3D', 'AC4A', 'AC4B', 'AC5A', 'AC5B', 'AC6', 'AC7A', 'AC7B', 'AC7C', 'AC8A', 'AC8B', 'AC9A', 'AC9B', 'AC10', 'AC11', 'AC12', 'AC13', 'AC14']\n",
      "CJ (7): ['CJ1', 'CJ2', 'CJ3', 'CJ4', 'CJ5', 'CJ6', 'CJ7']\n"
     ]
    }
   ],
   "source": [
    "f_dict = {}\n",
    "fgroups = ['SC', 'DM', 'TB', 'AL', 'ID', 'ND', 'DA', 'OD', 'TX', 'AC', 'CJ']  # feature groups\n",
    "for g in fgroups:\n",
    "    features = [c for c in df_C1W1nonet if c.startswith(g)]\n",
    "    f_indices = [df_C1W1nonet.columns.get_loc(c) for c in df_C1W1nonet if c.startswith(g)]  # column indices of the group's features\n",
    "    f_dict[g] = f_indices\n",
    "    print(f'{g} ({len(features)}): {features}')"
   ]
  },
  {
   "cell_type": "markdown",
   "metadata": {},
   "source": [
    "Example: access feature group 'AL' directly from X_imp (2D array)"
   ]
  },
  {
   "cell_type": "code",
   "execution_count": null,
   "metadata": {},
   "outputs": [],
   "source": [
    "print(X_imp[:,f_dict['AL']].shape)\n",
    "X_imp[:,f_dict['AL']]"
   ]
  },
  {
   "cell_type": "markdown",
   "metadata": {},
   "source": [
    "Example: access list of feature groups ['AL', 'ID'] directly from X_imp (2D array)"
   ]
  },
  {
   "cell_type": "code",
   "execution_count": 17,
   "metadata": {},
   "outputs": [
    {
     "data": {
      "text/plain": [
       "array([[ 1.,  1.,  1., ..., -1., -1., -1.],\n",
       "       [ 0.,  1.,  1., ..., -1., -1., -1.],\n",
       "       [ 1.,  1.,  2., ..., -1., -1., -1.],\n",
       "       ...,\n",
       "       [ 1.,  1.,  1., ...,  3.,  1.,  2.],\n",
       "       [ 0.,  1.,  1., ..., -1., -1., -1.],\n",
       "       [ 1.,  1.,  1., ..., -1., -1., -1.]])"
      ]
     },
     "execution_count": 17,
     "metadata": {},
     "output_type": "execute_result"
    }
   ],
   "source": [
    "fsubsets = ['AL', 'ID']\n",
    "def get_f_indices(fsubsets):  # concatenate multiple feature groups (lists) into one big list of features\n",
    "    return [f for fgroup in [f_dict[s] for s in fsubsets] for f in fgroup]\n",
    "\n",
    "X_imp[:,get_f_indices(fsubsets)]"
   ]
  },
  {
   "cell_type": "code",
   "execution_count": 10,
   "metadata": {},
   "outputs": [],
   "source": [
    "fsubs_1, fsubs_2, fsubs_3, fsubs_4 = ['SC'], ['DM'], ['TB','AL','ID','ND','DA','OD'], ['TX','AC','CJ']\n",
    "fsubs_5 = fsubs_1 + fsubs_2\n",
    "fsubs_6 = fsubs_1 + fsubs_2 + fsubs_3\n",
    "fsubs_7 = fsubs_1 + fsubs_2 + fsubs_4\n",
    "fsubs_8 = fsubs_1 + fsubs_2 + fsubs_3 + fsubs_4\n",
    "fsubs_all = {'g1': fsubs_1, 'g2': fsubs_2, 'g3': fsubs_3, 'g4': fsubs_4, 'g5': fsubs_5, 'g6': fsubs_6, 'g7': fsubs_7, 'g8': fsubs_8}\n",
    "# X_imp[:,get_f_indices(fsubsets)]"
   ]
  },
  {
   "cell_type": "markdown",
   "metadata": {},
   "source": [
    "### Labeling\n",
    "\n",
    "Binary labels indicating whether participants use more or less of each substance in wave 2 compared to wave 1"
   ]
  },
  {
   "cell_type": "code",
   "execution_count": 22,
   "metadata": {},
   "outputs": [
    {
     "name": "stdout",
     "output_type": "stream",
     "text": [
      "benchmark: tobacco = 0.6521739130434783, alcohol = 0.6869565217391305, inj = 0.8608695652173913, noninj = 0.6782608695652175\n"
     ]
    }
   ],
   "source": [
    "y_tobacco = np.array([0,0,0,0,0,0,0,0,0,0,0,1,0,0,1,0,0,1,1,1,0,0,0,1,0,1,0,0,0,0,0,1,0,1,1])\n",
    "y_alcohol = np.array([1,0,0,1,0,1,0,1,0,1,0,0,0,1,1,0,1,1,1,0,1,0,1,1,1,0,0,0,1,1,0,0,0,0,1])\n",
    "y_inj =     np.array([0,0,0,1,0,1,0,1,0,0,0,0,0,0,0,1,0,0,0,1,1,0,0,0,0,0,1,0,0,0,1,1,1,0,0])\n",
    "y_noninj =  np.array([0,1,1,0,1,1,0,0,0,0,0,0,1,1,0,1,0,0,1,1,1,0,0,0,1,1,1,0,0,0,1,0,0,0,0])\n",
    "\n",
    "# add C2W1\n",
    "y_tobacco = np.concatenate((y_tobacco, np.array([1,0,0,0,0,0,0,1,1,0,1,0,0,0,0,1,1,1,0,0,1,0,1,0,0,1,0,0,0,0,0,1,0,0,0,0,0,0,0,1,0,\n",
    "                                                0,1,1,1,0,1,1,0,0,0,1,1,0,0,0,0,1,0,1,1,0,0,1,1,1,0,0,1,0,1,1,0,0,0,1,1,0,0,0])), axis=None)\n",
    "y_alcohol = np.concatenate((y_alcohol, np.array([0,1,0,1,0,0,0,0,0,1,1,0,1,1,0,0,0,0,0,0,0,0,1,0,1,1,0,0,0,0,0,1,0,0,0,0,0,0,0,1,0,\n",
    "                                                0,1,0,0,0,0,1,0,0,0,0,0,0,1,1,0,0,0,0,0,0,0,0,1,0,0,0,0,1,1,0,0,0,0,1,0,0,0,0])), axis=None)\n",
    "y_inj = np.concatenate((y_inj, np.array([0,0,0,1,0,0,0,0,1,0,0,0,0,0,0,0,0,1,0,0,0,0,0,0,0,0,0,0,0,0,0,0,0,0,0,0,0,0,0,0,\n",
    "                                        0,0,0,0,0,0,0,0,0,0,0,0,1,0,1,0,0,0,0,0,0,0,0,0,0,0,0,0,0,0,0,0,0,0,0,1,0,0,0,0])), axis=None)\n",
    "y_noninj = np.concatenate((y_noninj, np.array([1,0,1,1,0,0,0,0,0,0,0,0,1,0,0,1,0,1,0,0,1,0,1,0,0,0,0,0,0,0,0,0,0,0,0,0,1,1,\n",
    "                                            0,0,0,1,0,1,0,0,0,0,1,0,0,0,1,0,0,0,0,0,0,0,0,0,0,1,1,0,0,0,0,1,1,1,1,1,1,1,0,0,0,0])), axis=None)\n",
    "\n",
    "y_all = {'tobacco': y_tobacco, 'alcohol': y_alcohol, 'injection': y_inj, 'non-injection': y_noninj}\n",
    "\n",
    "def calc_bm(y):\n",
    "    return 1 - np.sum(y)/len(y)\n",
    "\n",
    "# if we classify everyone into the majority negative class (0), what is the accuracy?\n",
    "print(f'benchmark: tobacco = {calc_bm(y_tobacco)}, alcohol = {calc_bm(y_alcohol)}, inj = {calc_bm(y_inj)}, noninj = {calc_bm(y_noninj)}')"
   ]
  },
  {
   "cell_type": "markdown",
   "metadata": {},
   "source": [
    "### Learning Curve"
   ]
  },
  {
   "cell_type": "markdown",
   "metadata": {},
   "source": [
    "See more here: https://arxiv.org/pdf/2103.10948"
   ]
  },
  {
   "cell_type": "code",
   "execution_count": 14,
   "metadata": {},
   "outputs": [],
   "source": [
    "def plot_learning_curve(\n",
    "    estimator,\n",
    "    title,\n",
    "    X,\n",
    "    y,\n",
    "    axes=None,\n",
    "    ylim=None,\n",
    "    cv=None,\n",
    "    n_jobs=None,\n",
    "    scoring=None,\n",
    "    train_sizes=np.linspace(0.1, 1.0, 10),\n",
    "):\n",
    "    \"\"\"\n",
    "    Generate 3 plots: the test and training learning curve, the training\n",
    "    samples vs fit times curve, the fit times vs score curve.\n",
    "\n",
    "    Parameters\n",
    "    ----------\n",
    "    estimator : estimator instance\n",
    "        An estimator instance implementing `fit` and `predict` methods which\n",
    "        will be cloned for each validation.\n",
    "\n",
    "    title : str\n",
    "        Title for the chart.\n",
    "\n",
    "    X : array-like of shape (n_samples, n_features)\n",
    "        Training vector, where ``n_samples`` is the number of samples and\n",
    "        ``n_features`` is the number of features.\n",
    "\n",
    "    y : array-like of shape (n_samples) or (n_samples, n_features)\n",
    "        Target relative to ``X`` for classification or regression;\n",
    "        None for unsupervised learning.\n",
    "\n",
    "    axes : array-like of shape (3,), default=None\n",
    "        Axes to use for plotting the curves.\n",
    "\n",
    "    ylim : tuple of shape (2,), default=None\n",
    "        Defines minimum and maximum y-values plotted, e.g. (ymin, ymax).\n",
    "\n",
    "    cv : int, cross-validation generator or an iterable, default=None\n",
    "        Determines the cross-validation splitting strategy.\n",
    "        Possible inputs for cv are:\n",
    "\n",
    "          - None, to use the default 5-fold cross-validation,\n",
    "          - integer, to specify the number of folds.\n",
    "          - :term:`CV splitter`,\n",
    "          - An iterable yielding (train, test) splits as arrays of indices.\n",
    "\n",
    "        For integer/None inputs, if ``y`` is binary or multiclass,\n",
    "        :class:`StratifiedKFold` used. If the estimator is not a classifier\n",
    "        or if ``y`` is neither binary nor multiclass, :class:`KFold` is used.\n",
    "\n",
    "        Refer :ref:`User Guide <cross_validation>` for the various\n",
    "        cross-validators that can be used here.\n",
    "\n",
    "    n_jobs : int or None, default=None\n",
    "        Number of jobs to run in parallel.\n",
    "        ``None`` means 1 unless in a :obj:`joblib.parallel_backend` context.\n",
    "        ``-1`` means using all processors. See :term:`Glossary <n_jobs>`\n",
    "        for more details.\n",
    "\n",
    "    scoring : str or callable, default=None\n",
    "        A str (see model evaluation documentation) or\n",
    "        a scorer callable object / function with signature\n",
    "        ``scorer(estimator, X, y)``.\n",
    "\n",
    "    train_sizes : array-like of shape (n_ticks,)\n",
    "        Relative or absolute numbers of training examples that will be used to\n",
    "        generate the learning curve. If the ``dtype`` is float, it is regarded\n",
    "        as a fraction of the maximum size of the training set (that is\n",
    "        determined by the selected validation method), i.e. it has to be within\n",
    "        (0, 1]. Otherwise it is interpreted as absolute sizes of the training\n",
    "        sets. Note that for classification the number of samples usually have\n",
    "        to be big enough to contain at least one sample from each class.\n",
    "        (default: np.linspace(0.1, 1.0, 5))\n",
    "    \"\"\"\n",
    "    if axes is None:\n",
    "        _, axes = plt.subplots(1, 1, figsize=(20, 5))\n",
    "\n",
    "    axes.set_title(title)\n",
    "    if ylim is not None:\n",
    "        axes.set_ylim(*ylim)\n",
    "    axes.set_xlabel(\"Training examples\")\n",
    "    axes.set_ylabel(\"Score\")\n",
    "\n",
    "    train_sizes, train_scores, test_scores, fit_times, _ = learning_curve(\n",
    "        estimator,\n",
    "        X,\n",
    "        y,\n",
    "        scoring=scoring,\n",
    "        cv=cv,\n",
    "        n_jobs=n_jobs,\n",
    "        train_sizes=train_sizes,\n",
    "        return_times=True,\n",
    "    )\n",
    "    train_scores_mean = np.mean(train_scores, axis=1)\n",
    "    train_scores_std = np.std(train_scores, axis=1)\n",
    "    test_scores_mean = np.mean(test_scores, axis=1)\n",
    "    test_scores_std = np.std(test_scores, axis=1)\n",
    "    fit_times_mean = np.mean(fit_times, axis=1)\n",
    "    fit_times_std = np.std(fit_times, axis=1)\n",
    "\n",
    "    # Plot learning curve\n",
    "    axes.grid()\n",
    "    axes.fill_between(\n",
    "        train_sizes,\n",
    "        train_scores_mean - train_scores_std,\n",
    "        train_scores_mean + train_scores_std,\n",
    "        alpha=0.1,\n",
    "        color=\"r\",\n",
    "    )\n",
    "    axes.fill_between(\n",
    "        train_sizes,\n",
    "        test_scores_mean - test_scores_std,\n",
    "        test_scores_mean + test_scores_std,\n",
    "        alpha=0.1,\n",
    "        color=\"g\",\n",
    "    )\n",
    "    axes.plot(\n",
    "        train_sizes, train_scores_mean, \"o-\", color=\"r\", label=\"Training score\"\n",
    "    )\n",
    "    axes.plot(\n",
    "        train_sizes, test_scores_mean, \"o-\", color=\"g\", label=\"Cross-validation score\"\n",
    "    )\n",
    "    axes.legend(loc=\"best\")\n",
    "\n",
    "    # # Plot n_samples vs fit_times\n",
    "    # axes[1].grid()\n",
    "    # axes[1].plot(train_sizes, fit_times_mean, \"o-\")\n",
    "    # axes[1].fill_between(\n",
    "    #     train_sizes,\n",
    "    #     fit_times_mean - fit_times_std,\n",
    "    #     fit_times_mean + fit_times_std,\n",
    "    #     alpha=0.1,\n",
    "    # )\n",
    "    # axes[1].set_xlabel(\"Training examples\")\n",
    "    # axes[1].set_ylabel(\"fit_times\")\n",
    "    # axes[1].set_title(\"Scalability of the model\")\n",
    "\n",
    "    # # Plot fit_time vs score\n",
    "    # fit_time_argsort = fit_times_mean.argsort()\n",
    "    # fit_time_sorted = fit_times_mean[fit_time_argsort]\n",
    "    # test_scores_mean_sorted = test_scores_mean[fit_time_argsort]\n",
    "    # test_scores_std_sorted = test_scores_std[fit_time_argsort]\n",
    "    # axes[2].grid()\n",
    "    # axes[2].plot(fit_time_sorted, test_scores_mean_sorted, \"o-\")\n",
    "    # axes[2].fill_between(\n",
    "    #     fit_time_sorted,\n",
    "    #     test_scores_mean_sorted - test_scores_std_sorted,\n",
    "    #     test_scores_mean_sorted + test_scores_std_sorted,\n",
    "    #     alpha=0.1,\n",
    "    # )\n",
    "    # axes[2].set_xlabel(\"fit_times\")\n",
    "    # axes[2].set_ylabel(\"Score\")\n",
    "    # axes[2].set_title(\"Performance of the model\")\n",
    "\n",
    "    return plt"
   ]
  },
  {
   "cell_type": "markdown",
   "metadata": {},
   "source": [
    "Feed the best params found from GridSearchCV into the model's learning curve"
   ]
  },
  {
   "cell_type": "code",
   "execution_count": 24,
   "metadata": {},
   "outputs": [],
   "source": [
    "@ignore_warnings(category=ConvergenceWarning)\n",
    "def log_regression_tuned(X, y):\n",
    "    param_grid = dict(penalty=['l1', 'l2'], C=[0.0001, 0.001, 0.01, 0.1, 1, 10, 100, 1000])\n",
    "    clf = GridSearchCV(estimator=LogisticRegression(max_iter=1000, class_weight='balanced', solver='liblinear'),\n",
    "                        param_grid=param_grid,\n",
    "                        scoring='accuracy',\n",
    "                        cv=StratifiedKFold())\n",
    "    clf.fit(standard_scale(X), y)\n",
    "\n",
    "    return clf.best_estimator_\n",
    "\n",
    "def pruned_decision_trees_tuned(X, y):\n",
    "    param_grid = dict(max_depth=range(2,6), min_samples_split=[5, 10, 15], min_samples_leaf=range(1,6))\n",
    "    clf = GridSearchCV(estimator=DecisionTreeClassifier(class_weight='balanced'),\n",
    "                        param_grid=param_grid,\n",
    "                        scoring='accuracy',\n",
    "                        cv=StratifiedKFold())\n",
    "    clf.fit(X, y)\n",
    "\n",
    "    return clf.best_estimator_\n",
    "\n",
    "def svm_tuned(X, y):\n",
    "    param_grid = dict(kernel=['linear','poly','rbf','sigmoid'], C=[0.0001, 0.001, 0.01, 0.1, 1, 10, 100, 1000])\n",
    "    clf = GridSearchCV(estimator=SVC(class_weight='balanced'),\n",
    "                        param_grid=param_grid,\n",
    "                        scoring='accuracy',\n",
    "                        cv=StratifiedKFold())\n",
    "    clf.fit(standard_scale(X), y)\n",
    "\n",
    "    return clf.best_estimator_\n",
    "\n",
    "\n",
    "def plot_LC_tuned(X, y, y_name, gname, n_estimators=3):\n",
    "\n",
    "    fig, axes = plt.subplots(1, n_estimators, figsize=(15, 5))\n",
    "\n",
    "    # Cross validation with 50 iterations to get smoother mean test and train\n",
    "    # score curves, each time with 20% data randomly selected as a validation set.\n",
    "    cv = ShuffleSplit(n_splits=50, test_size=0.2, random_state=0)\n",
    "\n",
    "    title = \"Learning Curves (logistic regression)\"\n",
    "    estimator = log_regression_tuned(X, y)\n",
    "    # print(f'Log regression: {estimator}')\n",
    "    plot_learning_curve(\n",
    "        estimator, title, standard_scale(X), y, axes=axes[0], ylim=(0.1, 1.01), cv=cv, n_jobs=4, scoring=\"accuracy\"\n",
    "    )\n",
    "\n",
    "    title = \"Learning Curves (decision tree)\"\n",
    "    estimator = pruned_decision_trees_tuned(X, y)\n",
    "    # print(f'Decision tree: {estimator}')\n",
    "    plot_learning_curve(\n",
    "        estimator, title, X, y, axes=axes[1], ylim=(0.1, 1.01), cv=cv, n_jobs=4, scoring=\"accuracy\"\n",
    "    )\n",
    "\n",
    "    title = \"Learning Curves (SVM)\"\n",
    "    estimator = svm_tuned(X, y)\n",
    "    # print(f'SVM: {estimator}')\n",
    "    plot_learning_curve(\n",
    "        estimator, title, standard_scale(X), y, axes=axes[2], ylim=(0.1, 1.01), cv=cv, n_jobs=4, scoring=\"accuracy\"\n",
    "    )\n",
    "\n",
    "    fig.suptitle(y_name + ' use: group ' + gname)\n",
    "    plt.savefig(f'plots/{y_name}_{gname}_learningCurve.png', facecolor='white')"
   ]
  },
  {
   "cell_type": "code",
   "execution_count": null,
   "metadata": {},
   "outputs": [],
   "source": [
    "# y = y_tobacco\n",
    "# drug = 'tobacco'\n",
    "\n",
    "for gname, fsubs in fsubs_all.items():\n",
    "    X = X_imp[:,get_f_indices(fsubs)]\n",
    "    for drug, y in y_all.items():  # for each substance\n",
    "        plot_LC_tuned(X, y, drug, gname)\n",
    "    # plot_LC_tuned(X, y, drug, gname)"
   ]
  },
  {
   "cell_type": "markdown",
   "metadata": {},
   "source": [
    "## Training"
   ]
  },
  {
   "cell_type": "markdown",
   "metadata": {},
   "source": [
    "### Logistic Regression"
   ]
  },
  {
   "cell_type": "markdown",
   "metadata": {},
   "source": [
    "Consider all feature groups with grid search\n",
    "\n",
    "Note that when `scoring='accuracy'` and `cv=LeaveOneOut()`, the resulting `best_score_` from the grid is equal to the average acc from LOOCV"
   ]
  },
  {
   "cell_type": "code",
   "execution_count": 31,
   "metadata": {},
   "outputs": [],
   "source": [
    "penalty = ['l1', 'l2']\n",
    "C = [0.0001, 0.001, 0.01, 0.1, 1, 10, 100, 1000]\n",
    "\n",
    "param_grid = dict(penalty=penalty, C=C)\n",
    "grid = GridSearchCV(estimator=LogisticRegression(max_iter=1000, random_state=17, class_weight='balanced'),\n",
    "                    param_grid=param_grid,\n",
    "                    scoring='accuracy',\n",
    "                    cv=LeaveOneOut())"
   ]
  },
  {
   "cell_type": "code",
   "execution_count": 32,
   "metadata": {},
   "outputs": [],
   "source": [
    "X = standard_scale(X_imp)\n",
    "# X = X_imp\n",
    "final_accs = []\n",
    "for drug, y in y_all.items():  # for each substance\n",
    "    param_grid = dict(penalty=['l1', 'l2'], C=[0.0001, 0.001, 0.01, 0.1, 1, 10, 100, 1000])\n",
    "    grid = GridSearchCV(estimator=LogisticRegression(max_iter=1000, random_state=17, class_weight='balanced', solver='liblinear'),\n",
    "                        param_grid=param_grid,\n",
    "                        scoring='accuracy',\n",
    "                        cv=LeaveOneOut())\n",
    "\n",
    "    grid.fit(X, y)\n",
    "    final_accs.append(grid.best_score_)"
   ]
  },
  {
   "cell_type": "code",
   "execution_count": 33,
   "metadata": {},
   "outputs": [
    {
     "data": {
      "text/plain": [
       "[0.7142857142857143, 0.5714285714285714, 0.7142857142857143, 0.6]"
      ]
     },
     "execution_count": 33,
     "metadata": {},
     "output_type": "execute_result"
    }
   ],
   "source": [
    "final_accs"
   ]
  },
  {
   "cell_type": "markdown",
   "metadata": {},
   "source": [
    "### Decision Trees"
   ]
  },
  {
   "cell_type": "code",
   "execution_count": 35,
   "metadata": {},
   "outputs": [
    {
     "name": "stdout",
     "output_type": "stream",
     "text": [
      "0.6571428571428571\n"
     ]
    },
    {
     "data": {
      "image/png": "[encoded data removed]",
      "text/plain": [
       "<Figure size 720x720 with 1 Axes>"
      ]
     },
     "metadata": {
      "needs_background": "light"
     },
     "output_type": "display_data"
    }
   ],
   "source": [
    "# X = X_imp[:,get_f_indices(['TB'])]\n",
    "X = X_imp\n",
    "y = y_tobacco\n",
    "clf = DecisionTreeClassifier(class_weight='balanced',\n",
    "                            max_depth=3,\n",
    "                            min_samples_leaf=1,\n",
    "                            min_samples_split=2,\n",
    "                            min_impurity_decrease=0,\n",
    "                            random_state=17)\n",
    "print(np.mean(cross_val_score(clf, X, y, cv=LeaveOneOut())))\n",
    "\n",
    "plt.figure(figsize=(10,10))\n",
    "plot_tree(clf.fit(X, y),filled=True,fontsize=8,feature_names=list(df_C1W1nonet.columns),class_names=True)\n",
    "plt.show()"
   ]
  }
 ],
 "metadata": {
  "kernelspec": {
   "display_name": "Python 3.9.12 ('base')",
   "language": "python",
   "name": "python3"
  },
  "language_info": {
   "codemirror_mode": {
    "name": "ipython",
    "version": 3
   },
   "file_extension": ".py",
   "mimetype": "text/x-python",
   "name": "python",
   "nbconvert_exporter": "python",
   "pygments_lexer": "ipython3",
   "version": "3.9.12"
  },
  "orig_nbformat": 4,
  "vscode": {
   "interpreter": {
    "hash": "2abc7d1412b351c343a4d86f19894027741fcfc3457eb52dff9547c08c1a4f79"
   }
  }
 },
 "nbformat": 4,
 "nbformat_minor": 2
}
