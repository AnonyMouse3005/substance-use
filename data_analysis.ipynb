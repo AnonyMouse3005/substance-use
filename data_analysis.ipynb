{
 "cells": [
  {
   "cell_type": "code",
   "execution_count": 1,
   "metadata": {},
   "outputs": [],
   "source": [
    "import matplotlib.pyplot as plt\n",
    "import numpy as np\n",
    "import pandas as pd\n",
    "import os"
   ]
  },
  {
   "cell_type": "code",
   "execution_count": 2,
   "metadata": {},
   "outputs": [],
   "source": [
    "datapath = 'data/modified/'\n",
    "csv_file_nonet = datapath + 'C1W1 and C1W2 NonNetwork Data.csv'\n",
    "csv_file_net = datapath + 'C1W1 C1W2 With Network No NickInit.csv'\n",
    "\n",
    "df_nonet = pd.read_csv(csv_file_nonet)\n",
    "df_net = pd.read_csv(csv_file_net)"
   ]
  },
  {
   "cell_type": "code",
   "execution_count": 34,
   "metadata": {},
   "outputs": [],
   "source": [
    "f1 = datapath + \"C1W1_nonnetwork.txt\"  # wave 1, non-network\n",
    "f2 = datapath + \"C1W2_nonnetwork.txt\"  # wave 2, non-network\n",
    "f3 = datapath + \"C1W1_network.txt\"  # wave 1, network\n",
    "\n",
    "varnames, descrs = [], []\n",
    "with open(f1, 'r') as file:  # read from C1W1\n",
    "    while (line := file.readline().rstrip()):  # go over each line\n",
    "        chars = line.split()\n",
    "        varnames.append(chars[0])\n",
    "        descrs.append(' '.join(chars[1:]))"
   ]
  },
  {
   "cell_type": "code",
   "execution_count": 36,
   "metadata": {},
   "outputs": [],
   "source": [
    "mappings = []  # mappings of non-network variables between C1W1 and C1W2\n",
    "with open(f2, 'r') as file:  # read from C1W2\n",
    "    i = 0  # keep track of column index of C1W2 vars i.e., line number in f2\n",
    "    while (line := file.readline().rstrip()):  # go over each line\n",
    "        chars = line.split()\n",
    "        descr = ' '.join(chars[1:])\n",
    "        if descr in descrs:\n",
    "            mappings.append((descrs.index(descr), i))\n",
    "        i += 1"
   ]
  },
  {
   "cell_type": "code",
   "execution_count": 37,
   "metadata": {},
   "outputs": [
    {
     "name": "stdout",
     "output_type": "stream",
     "text": [
      "117\n"
     ]
    },
    {
     "data": {
      "text/plain": [
       "[(2, 3),\n",
       " (3, 4),\n",
       " (4, 5),\n",
       " (5, 6),\n",
       " (6, 7),\n",
       " (7, 8),\n",
       " (8, 9),\n",
       " (9, 10),\n",
       " (10, 11),\n",
       " (11, 12),\n",
       " (12, 13),\n",
       " (14, 14),\n",
       " (15, 15),\n",
       " (16, 16),\n",
       " (17, 17),\n",
       " (18, 18),\n",
       " (19, 19),\n",
       " (20, 20),\n",
       " (21, 21),\n",
       " (22, 22),\n",
       " (23, 23),\n",
       " (24, 24),\n",
       " (26, 25),\n",
       " (28, 26),\n",
       " (30, 27),\n",
       " (31, 28),\n",
       " (34, 30),\n",
       " (35, 31),\n",
       " (36, 32),\n",
       " (37, 33),\n",
       " (38, 34),\n",
       " (39, 35),\n",
       " (40, 36),\n",
       " (41, 37),\n",
       " (42, 38),\n",
       " (43, 39),\n",
       " (44, 40),\n",
       " (45, 41),\n",
       " (46, 42),\n",
       " (47, 43),\n",
       " (48, 44),\n",
       " (49, 45),\n",
       " (50, 46),\n",
       " (51, 47),\n",
       " (52, 48),\n",
       " (53, 49),\n",
       " (54, 50),\n",
       " (55, 51),\n",
       " (56, 52),\n",
       " (57, 53),\n",
       " (58, 54),\n",
       " (59, 56),\n",
       " (60, 57),\n",
       " (61, 58),\n",
       " (62, 59),\n",
       " (63, 60),\n",
       " (64, 61),\n",
       " (65, 62),\n",
       " (66, 63),\n",
       " (67, 64),\n",
       " (68, 65),\n",
       " (69, 66),\n",
       " (70, 67),\n",
       " (71, 68),\n",
       " (72, 69),\n",
       " (73, 70),\n",
       " (81, 71),\n",
       " (82, 72),\n",
       " (83, 73),\n",
       " (84, 74),\n",
       " (85, 75),\n",
       " (86, 76),\n",
       " (87, 77),\n",
       " (74, 78),\n",
       " (75, 79),\n",
       " (76, 80),\n",
       " (77, 81),\n",
       " (78, 82),\n",
       " (79, 83),\n",
       " (80, 84),\n",
       " (108, 128),\n",
       " (109, 129),\n",
       " (110, 130),\n",
       " (111, 131),\n",
       " (112, 132),\n",
       " (113, 133),\n",
       " (114, 134),\n",
       " (115, 135),\n",
       " (116, 136),\n",
       " (117, 137),\n",
       " (118, 138),\n",
       " (119, 139),\n",
       " (120, 140),\n",
       " (121, 141),\n",
       " (122, 142),\n",
       " (123, 143),\n",
       " (124, 144),\n",
       " (125, 145),\n",
       " (126, 146),\n",
       " (127, 147),\n",
       " (128, 148),\n",
       " (129, 149),\n",
       " (130, 150),\n",
       " (131, 151),\n",
       " (157, 152),\n",
       " (158, 153),\n",
       " (159, 154),\n",
       " (164, 156),\n",
       " (165, 157),\n",
       " (166, 158),\n",
       " (167, 159),\n",
       " (168, 160),\n",
       " (169, 161),\n",
       " (170, 163),\n",
       " (171, 164),\n",
       " (172, 165),\n",
       " (173, 166)]"
      ]
     },
     "execution_count": 37,
     "metadata": {},
     "output_type": "execute_result"
    }
   ],
   "source": [
    "print(len(mappings))\n",
    "mappings"
   ]
  },
  {
   "cell_type": "markdown",
   "metadata": {},
   "source": [
    "Corner cases:\n",
    "- Q36 is combination of AL6A (for men) and AL6B (for women)\n",
    "- Exclusive to wave 2: Q70 (how old regularly used marijuana), Q199 (whether been incarcerated in the past 6 months), Q208_R4 (other movement within the Protestant faith)\n",
    "- DA5-8 == Q100-104 (patterns of using alcohol and drugs)"
   ]
  }
 ],
 "metadata": {
  "kernelspec": {
   "display_name": "Python 3.9.12 ('base')",
   "language": "python",
   "name": "python3"
  },
  "language_info": {
   "codemirror_mode": {
    "name": "ipython",
    "version": 3
   },
   "file_extension": ".py",
   "mimetype": "text/x-python",
   "name": "python",
   "nbconvert_exporter": "python",
   "pygments_lexer": "ipython3",
   "version": "3.9.12"
  },
  "orig_nbformat": 4,
  "vscode": {
   "interpreter": {
    "hash": "2abc7d1412b351c343a4d86f19894027741fcfc3457eb52dff9547c08c1a4f79"
   }
  }
 },
 "nbformat": 4,
 "nbformat_minor": 2
}
